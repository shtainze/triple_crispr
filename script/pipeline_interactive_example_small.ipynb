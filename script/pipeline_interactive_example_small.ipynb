{
 "cells": [
  {
   "cell_type": "markdown",
   "id": "addb3aef",
   "metadata": {},
   "source": [
    "# Initial preparation"
   ]
  },
  {
   "cell_type": "markdown",
   "id": "8cca1159-74e1-4770-8977-3c85952de4d1",
   "metadata": {},
   "source": [
    "## Load scripts"
   ]
  },
  {
   "cell_type": "code",
   "execution_count": 1,
   "id": "48253c2c-0cd6-43b8-b8fd-851a28943dce",
   "metadata": {},
   "outputs": [
    {
     "data": {
      "text/html": [
       "<style>.container { width:100% !important; }</style>"
      ],
      "text/plain": [
       "<IPython.core.display.HTML object>"
      ]
     },
     "metadata": {},
     "output_type": "display_data"
    },
    {
     "name": "stdout",
     "output_type": "stream",
     "text": [
      "Root directory: /workdir\n",
      "Loaded functions: 2024-01-18 13:37:57.712980\n"
     ]
    }
   ],
   "source": [
    "from IPython.display import display, HTML\n",
    "display(HTML(\"<style>.container { width:100% !important; }</style>\"))\n",
    "\n",
    "import os\n",
    "os.chdir(\"..\")\n",
    "dir_root = os.getcwd()\n",
    "print(\"Root directory:\", dir_root)\n",
    "\n",
    "# Load functions\n",
    "os.chdir(os.path.join(dir_root, \"script\"))\n",
    "with open(\"function.py\") as f:\n",
    "    code = f.read()\n",
    "    exec(code)\n",
    "\n",
    "# Load customized multicore functions\n",
    "import custom_multicore as cmulti\n",
    "\n",
    "print('Loaded functions:', datetime.now())\n",
    "os.chdir(dir_root)"
   ]
  },
  {
   "cell_type": "markdown",
   "id": "3c8b2e2b-36df-43c7-a1f3-fe849bf80424",
   "metadata": {},
   "source": [
    "## [Specify each time!] database name and sources\n",
    "- `database_name`: arbitrary, might be [scientific_name]_[genome version]\n",
    " - `url_genome`, `url_rna`: URL of RefSeq data\n",
    "   - you may look through the folder specified below\n",
    "   - and retrieve the newest version or data for another species\n",
    "   - `url_genome`: usually ends in \"_genomic.fna.gz\" and the file size is largest in the folder\n",
    "   - `url_rna`: usually ends in \"_rna_from_genomic.fna.gz\""
   ]
  },
  {
   "cell_type": "code",
   "execution_count": 2,
   "id": "1a837da7-ca3d-4697-bdbc-675bb6a2969e",
   "metadata": {},
   "outputs": [
    {
     "name": "stdout",
     "output_type": "stream",
     "text": [
      "Database directory: /workdir/temp/CRISPR/database/Bigelowiella_natans_ASM245v1\n"
     ]
    }
   ],
   "source": [
    "# Bigelowiella natans- (Maybe) the smallest eukaryotic genome\n",
    "database_name = \"Bigelowiella_natans_ASM245v1\"\n",
    "database_path = \"https://ftp.ncbi.nlm.nih.gov/genomes/all/GCF/000/002/455/GCF_000002455.1_ASM245v1/GCF_000002455.1_ASM245v1\"\n",
    "\n",
    "url_genome = database_path + \"_genomic.fna.gz\"\n",
    "url_rna = database_path + \"_rna_from_genomic.fna.gz\"\n",
    "\n",
    "dir_database = os.path.join(\n",
    "    dir_root, \"database\", database_name)\n",
    "print(\"Database directory:\", dir_database)"
   ]
  },
  {
   "cell_type": "markdown",
   "id": "fe2831f0-b630-4cac-a026-58281037a1a7",
   "metadata": {},
   "source": [
    "## Make directories and download the data"
   ]
  },
  {
   "cell_type": "code",
   "execution_count": 3,
   "id": "862486d4-cae3-4e2c-b53d-9f5a59d01468",
   "metadata": {
    "scrolled": true
   },
   "outputs": [
    {
     "name": "stdout",
     "output_type": "stream",
     "text": [
      "##############################################\n",
      "2023-12-30 16:20:08.225923 Download source data\n",
      "Download from: https://ftp.ncbi.nlm.nih.gov/genomes/all/GCF/000/002/455/GCF_000002455.1_ASM245v1/GCF_000002455.1_ASM245v1_genomic.fna.gz\n",
      "Size: 128680 bytes\n",
      "Download to: /workdir/temp/CRISPR/database/Bigelowiella_natans_ASM245v1/source/genome.gz\n",
      ".Download from: https://ftp.ncbi.nlm.nih.gov/genomes/all/GCF/000/002/455/GCF_000002455.1_ASM245v1/GCF_000002455.1_ASM245v1_rna_from_genomic.fna.gz\n",
      "Size: 116518 bytes\n",
      "Download to: /workdir/temp/CRISPR/database/Bigelowiella_natans_ASM245v1/source/rna.gz\n",
      "."
     ]
    }
   ],
   "source": [
    "os.chdir(dir_root)\n",
    "f_setup_directory(dir_database)\n",
    "f_initial_directory_setup(dir_database, \n",
    "                        {url_genome: \"genome.gz\", url_rna: \"rna.gz\",}\n",
    "                       )"
   ]
  },
  {
   "cell_type": "markdown",
   "id": "486e9ade-29ce-4d2d-8741-e2be9d816251",
   "metadata": {},
   "source": [
    "## Cut into chromosomal sequences\n",
    "- This makes many smaller files which are easier to handle, compared to the large single genome file"
   ]
  },
  {
   "cell_type": "code",
   "execution_count": 4,
   "id": "b55e96bc-4bfe-4dd4-b469-609f8796e003",
   "metadata": {
    "scrolled": true
   },
   "outputs": [
    {
     "name": "stdout",
     "output_type": "stream",
     "text": [
      "##############################################\n",
      "2023-12-30 16:20:12.954466 Extract genome sequence\n",
      "Loading genome data...\n",
      "2023-12-30 16:20:12.984048 4 records were found. Picking out full chromosomes only...\n",
      "NC_010004.1 NC_010004.1 Bigelowiella natans nucleomorph chromosome 1, complete sequence\n",
      "2023-12-30 16:20:13.022786 Saved chr_1.fasta\n",
      "NC_010005.1 NC_010005.1 Bigelowiella natans nucleomorph chromosome 2, complete sequence\n",
      "2023-12-30 16:20:13.044355 Saved chr_2.fasta\n",
      "NC_010006.1 NC_010006.1 Bigelowiella natans nucleomorph chromosome 3, complete sequence\n",
      "2023-12-30 16:20:13.056826 Saved chr_3.fasta\n",
      "NC_008408.1 NC_008408.1 Bigelowiella natans plastid, complete genome\n",
      "2023-12-30 16:20:13.065201 Saved chr_4.fasta\n",
      "4 Chromosome(s) found\n",
      "\n",
      "2023-12-30 16:20:13.067723 Saved list_chr_id.csv\n",
      "2023-12-30 16:20:13.070543 Saved list_chr_desc.csv\n",
      "2023-12-30 16:20:13.073209 Saved to dict_chr.pickle\n"
     ]
    }
   ],
   "source": [
    "f_parse_sequence(dir_database)"
   ]
  },
  {
   "cell_type": "markdown",
   "id": "1d4ab7d5-55b2-48ce-9153-0654b889e836",
   "metadata": {},
   "source": [
    "## Extract mRNA info"
   ]
  },
  {
   "cell_type": "code",
   "execution_count": 5,
   "id": "1b338981-acc1-4413-88ae-bb4b2fcdff19",
   "metadata": {
    "scrolled": true
   },
   "outputs": [
    {
     "name": "stdout",
     "output_type": "stream",
     "text": [
      "##############################################\n",
      "2023-12-30 16:20:13.079400 Extract mRNA annotation\n",
      "2023-12-30 16:20:13.100937 361 records were found\n",
      "mRNA: 283\n",
      "On a full chromosome: 283\n",
      "Not 5prime-partial:  283\n",
      "Not 3prime-partial:  283\n",
      "No special annotation:  283\n",
      "No NM_ accession was found\n",
      "Using XM_ (predicted mRNA model) tag instead\n",
      "gene-coding:  283\n",
      "\n",
      "All entries in the data are formatted as expected\n",
      "\n",
      "Make sure again that the source is full chromosome in `dict_chr`\n",
      "Passed all filters: 178\n",
      "\n",
      "Example data:\n",
      "           chr                 ID    gene  chr_file  \\\n",
      "0  NC_010004.1   XM_001712699.1_4   sf3b4         1   \n",
      "1  NC_010004.1  XM_001712704.1_11    tcpD         1   \n",
      "2  NC_010004.1  XM_001712705.1_12  rpl13A         1   \n",
      "3  NC_010004.1  XM_001712706.1_13    rpoF         1   \n",
      "4  NC_010004.1  XM_001712708.1_15   sf3b5         1   \n",
      "\n",
      "                                            mRNA_pos  is_on_revcom  \n",
      "0  [[8969, 9055], [9075, 9123], [9142, 9230], [92...         False  \n",
      "1  [[15869, 15979], [15999, 16188], [16209, 16337...         False  \n",
      "2  [[17622, 17741], [17760, 17934], [17954, 18111...          True  \n",
      "3  [[18288, 18465], [18485, 18618], [18637, 18984...         False  \n",
      "4                                   [[20488, 20706]]          True  \n",
      "\n",
      "Saved to /workdir/temp/CRISPR/database/Bigelowiella_natans_ASM245v1/result/mrna_pos.csv\n",
      "Saved to /workdir/temp/CRISPR/database/Bigelowiella_natans_ASM245v1/result/mrna_pos.pickle\n",
      "177 genes are found\n",
      "Saved to /workdir/temp/CRISPR/database/Bigelowiella_natans_ASM245v1/result/mrna_listed_gene.csv\n",
      "##############################################\n",
      "2023-12-30 16:20:13.137322 Calculate exonal common parts\n",
      "2023-12-30 16:20:13.137404 Process gene No. 0 sf3b4\n",
      "2023-12-30 16:20:13.138906 Process gene No. 1 tcpD\n",
      "2023-12-30 16:20:13.139882 Process gene No. 2 rpl13A\n",
      "2023-12-30 16:20:13.140782 Process gene No. 3 rpoF\n",
      "2023-12-30 16:20:13.142022 Process gene No. 4 sf3b5\n",
      "2023-12-30 16:20:13.143072 Process gene No. 5 snRNPE-1\n",
      "2023-12-30 16:20:13.144074 Process gene No. 6 snRNPE-2\n",
      "2023-12-30 16:20:13.144903 Process gene No. 7 rpl7A-1\n",
      "2023-12-30 16:20:13.145590 Process gene No. 8 dip2\n",
      "2023-12-30 16:20:13.146226 Process gene No. 9 tcpE\n",
      "2023-12-30 16:20:13.146966 Process gene No. 10 rpl7A-2\n",
      "2023-12-30 16:20:13.157489 Process gene No. 20 tfIIA-gamma\n",
      "2023-12-30 16:20:13.169479 Process gene No. 30 snRNPSm-D\n",
      "2023-12-30 16:20:13.177225 Process gene No. 40 rpl30\n",
      "2023-12-30 16:20:13.183833 Process gene No. 50 dbp1\n",
      "2023-12-30 16:20:13.190162 Process gene No. 60 rps3\n",
      "2023-12-30 16:20:13.198242 Process gene No. 70 fet5\n",
      "2023-12-30 16:20:13.204608 Process gene No. 80 rpl44\n",
      "2023-12-30 16:20:13.212600 Process gene No. 90 rpc10\n",
      "2023-12-30 16:20:13.218991 Process gene No. 100 rnabp2\n",
      "Saved to /workdir/temp/CRISPR/database/Bigelowiella_natans_ASM245v1/result/mrna_common.csv\n",
      "Saved to /workdir/temp/CRISPR/database/Bigelowiella_natans_ASM245v1/result/mrna_common.pickle\n",
      "##############################################\n",
      "2023-12-30 16:20:13.279765 Calculate exonal union parts\n",
      "2023-12-30 16:20:13.279869 Process gene No. 0 sf3b4\n",
      "2023-12-30 16:20:13.281112 Process gene No. 1 tcpD\n",
      "2023-12-30 16:20:13.282635 Process gene No. 2 rpl13A\n",
      "2023-12-30 16:20:13.284161 Process gene No. 3 rpoF\n",
      "2023-12-30 16:20:13.285351 Process gene No. 4 sf3b5\n",
      "2023-12-30 16:20:13.286687 Process gene No. 5 snRNPE-1\n",
      "2023-12-30 16:20:13.287940 Process gene No. 6 snRNPE-2\n",
      "2023-12-30 16:20:13.288685 Process gene No. 7 rpl7A-1\n",
      "2023-12-30 16:20:13.289400 Process gene No. 8 dip2\n",
      "2023-12-30 16:20:13.290057 Process gene No. 9 tcpE\n",
      "2023-12-30 16:20:13.290711 Process gene No. 10 rpl7A-2\n",
      "2023-12-30 16:20:13.297682 Process gene No. 20 tfIIA-gamma\n",
      "2023-12-30 16:20:13.304728 Process gene No. 30 snRNPSm-D\n",
      "2023-12-30 16:20:13.314329 Process gene No. 40 rpl30\n",
      "2023-12-30 16:20:13.320660 Process gene No. 50 dbp1\n",
      "2023-12-30 16:20:13.327533 Process gene No. 60 rps3\n",
      "2023-12-30 16:20:13.334225 Process gene No. 70 fet5\n",
      "2023-12-30 16:20:13.340791 Process gene No. 80 rpl44\n",
      "2023-12-30 16:20:13.348046 Process gene No. 90 rpc10\n",
      "2023-12-30 16:20:13.355317 Process gene No. 100 rnabp2\n",
      "Saved to /workdir/temp/CRISPR/database/Bigelowiella_natans_ASM245v1/result/mrna_union.csv\n",
      "Saved to /workdir/temp/CRISPR/database/Bigelowiella_natans_ASM245v1/result/mrna_union.pickle\n"
     ]
    }
   ],
   "source": [
    "f_parse_annotation(dir_database)"
   ]
  },
  {
   "cell_type": "markdown",
   "id": "105bfd61-1828-4ca6-888a-eea3115fd99b",
   "metadata": {},
   "source": [
    "# Target candidate extraction & rudimentary selection"
   ]
  },
  {
   "cell_type": "markdown",
   "id": "fc90677e-a702-45b7-976e-c368aaad7e59",
   "metadata": {},
   "source": [
    "## Extract target candidate NGGs"
   ]
  },
  {
   "cell_type": "code",
   "execution_count": 6,
   "id": "e6e72c88-a7ed-4786-93e7-b0c9ed39af43",
   "metadata": {
    "scrolled": true
   },
   "outputs": [
    {
     "name": "stdout",
     "output_type": "stream",
     "text": [
      "##############################################\n",
      "2023-12-30 16:20:13.443069 Extract NGG on exonal regions\n",
      "Loading data...\n",
      "2023-12-30 16:20:13.454808 Process chr No. 1\n",
      "Length =  140590\n",
      "Saved to /workdir/temp/CRISPR/database/Bigelowiella_natans_ASM245v1/result/NGG_target_candidate/all/common/NGG_common_chr_1.csv\n",
      "Saved to /workdir/temp/CRISPR/database/Bigelowiella_natans_ASM245v1/result/NGG_target_candidate/all/common/NGG_common_chr_1.pickle\n",
      "Saved to /workdir/temp/CRISPR/database/Bigelowiella_natans_ASM245v1/result/NGG_target_candidate/all/union/NGG_union_chr_1.csv\n",
      "Saved to /workdir/temp/CRISPR/database/Bigelowiella_natans_ASM245v1/result/NGG_target_candidate/all/union/NGG_union_chr_1.pickle\n",
      "2023-12-30 16:20:13.538162 Process chr No. 2\n",
      "Length =  134144\n",
      "Saved to /workdir/temp/CRISPR/database/Bigelowiella_natans_ASM245v1/result/NGG_target_candidate/all/common/NGG_common_chr_2.csv\n",
      "Saved to /workdir/temp/CRISPR/database/Bigelowiella_natans_ASM245v1/result/NGG_target_candidate/all/common/NGG_common_chr_2.pickle\n",
      "Saved to /workdir/temp/CRISPR/database/Bigelowiella_natans_ASM245v1/result/NGG_target_candidate/all/union/NGG_union_chr_2.csv\n",
      "Saved to /workdir/temp/CRISPR/database/Bigelowiella_natans_ASM245v1/result/NGG_target_candidate/all/union/NGG_union_chr_2.pickle\n",
      "2023-12-30 16:20:13.622368 Process chr No. 3\n",
      "Length =  98136\n",
      "Saved to /workdir/temp/CRISPR/database/Bigelowiella_natans_ASM245v1/result/NGG_target_candidate/all/common/NGG_common_chr_3.csv\n",
      "Saved to /workdir/temp/CRISPR/database/Bigelowiella_natans_ASM245v1/result/NGG_target_candidate/all/common/NGG_common_chr_3.pickle\n",
      "Saved to /workdir/temp/CRISPR/database/Bigelowiella_natans_ASM245v1/result/NGG_target_candidate/all/union/NGG_union_chr_3.csv\n",
      "Saved to /workdir/temp/CRISPR/database/Bigelowiella_natans_ASM245v1/result/NGG_target_candidate/all/union/NGG_union_chr_3.pickle\n",
      "2023-12-30 16:20:13.687099 Process chr No. 4\n",
      "Length =  69166\n",
      "Saved to /workdir/temp/CRISPR/database/Bigelowiella_natans_ASM245v1/result/NGG_target_candidate/all/common/NGG_common_chr_4.csv\n",
      "Saved to /workdir/temp/CRISPR/database/Bigelowiella_natans_ASM245v1/result/NGG_target_candidate/all/common/NGG_common_chr_4.pickle\n",
      "Saved to /workdir/temp/CRISPR/database/Bigelowiella_natans_ASM245v1/result/NGG_target_candidate/all/union/NGG_union_chr_4.csv\n",
      "Saved to /workdir/temp/CRISPR/database/Bigelowiella_natans_ASM245v1/result/NGG_target_candidate/all/union/NGG_union_chr_4.pickle\n"
     ]
    }
   ],
   "source": [
    "f_extract_NGG_exonal(dir_database)"
   ]
  },
  {
   "cell_type": "markdown",
   "id": "38a28b0e-b933-4eca-a4b0-784faf317c6f",
   "metadata": {},
   "source": [
    "##  Sieve the target candidates, part \n",
    " - - The very minimal requiremen''''''"
   ]
  },
  {
   "cell_type": "code",
   "execution_count": 7,
   "id": "a3901148-f2d4-4f7c-9932-c11979cb5e5c",
   "metadata": {
    "scrolled": true
   },
   "outputs": [
    {
     "name": "stdout",
     "output_type": "stream",
     "text": [
      "##############################################\n",
      "2023-12-30 16:20:13.729484 Sieve the target candidates, part 1\n",
      "2023-12-30 16:20:13.729512 Concatenate csv files for exonal common parts\n",
      "Load NGG_common_chr_1.csv\n",
      "Load NGG_common_chr_2.csv\n",
      "Load NGG_common_chr_3.csv\n",
      "Load NGG_common_chr_4.csv\n",
      "\n",
      "2023-12-30 16:20:13.770156 Concatenate csv files for exonal union parts\n",
      "Load NGG_union_chr_1.csv\n",
      "Load NGG_union_chr_2.csv\n",
      "Load NGG_union_chr_3.csv\n",
      "Load NGG_union_chr_4.csv\n",
      "\n",
      "2023-12-30 16:20:13.795795 Merge\n",
      "2023-12-30 16:20:13.804954 Convert to actual gRNA sequence by changing the initial to G\n",
      "2023-12-30 16:20:13.806525 Omit duplicates\n",
      "2023-12-30 16:20:13.808492 Drop entries containing N\n",
      "4919 entries are found\n",
      "Result contained targets for 177 genes\n",
      "Number of genes with [1-2, 3-5, 6-] targets: [0, 12, 165]\n",
      "2023-12-30 16:20:13.823052 Saved to /workdir/temp/CRISPR/database/Bigelowiella_natans_ASM245v1/result/NGG_target_candidate/pd_merged_before_structure.pickle\n"
     ]
    }
   ],
   "source": [
    "f_sieve_target_1(dir_database)"
   ]
  },
  {
   "cell_type": "markdown",
   "id": "30492845-4742-4877-8c7b-da56e1fd296e",
   "metadata": {},
   "source": [
    "## Calculate sgRNA secondary structure"
   ]
  },
  {
   "cell_type": "code",
   "execution_count": 8,
   "id": "48759c69-2b8b-4d87-ba38-6848ed0a1432",
   "metadata": {
    "scrolled": true
   },
   "outputs": [
    {
     "name": "stdout",
     "output_type": "stream",
     "text": [
      "All cores: 4\n",
      "Idle cores: 3\n",
      "##############################################\n",
      "2023-12-30 16:20:14.832532 Calculate sgRNA secondary structure\n",
      "Add stem-loop sequences\n",
      "Estimating 1 0:00:00.048001\n",
      "Estimating 2 0:00:00.452141\n",
      "Estimating 3 0:00:04.896978\n",
      "Estimated completion time: 2023-12-30 16:20:28\n",
      "2023-12-30 16:20:20.237928 Start processing 3 jobs in total\n",
      "Use 3 cores in parallel\n"
     ]
    },
    {
     "name": "stderr",
     "output_type": "stream",
     "text": [
      "/usr/local/lib/python3.10/dist-packages/numpy/core/fromnumeric.py:59: FutureWarning: 'DataFrame.swapaxes' is deprecated and will be removed in a future version. Please use 'DataFrame.transpose' instead.\n",
      "  return bound(*args, **kwds)\n"
     ]
    },
    {
     "name": "stdout",
     "output_type": "stream",
     "text": [
      "2023-12-30 16:20:37.789178 Done parallel processing.\n",
      "2023-12-30 16:20:37.801719 Saved to /workdir/temp/CRISPR/database/Bigelowiella_natans_ASM245v1/result/NGG_target_candidate/pd_merged_with_structure.pickle\n",
      "2023-12-30 16:20:37.817166 Flag if GC > 60%\n",
      "2023-12-30 16:20:37.837655 Flag if containing TTTT\n",
      "2023-12-30 16:20:37.839505 Flag if dimerizing with vector sequence\n",
      "Estimating 1 0:00:00.006043\n",
      "Estimating 2 0:00:00.058249\n",
      "Estimating 3 0:00:00.603694\n",
      "Estimating 4 0:00:02.280756\n",
      "Estimated completion time: 2023-12-30 16:20:41\n",
      "Flag if score > 60\n",
      "2023-12-30 16:20:42.757932 Saved to /workdir/temp/CRISPR/database/Bigelowiella_natans_ASM245v1/result/NGG_target_candidate/pd_merged_all_before_offtarget.pickle\n"
     ]
    }
   ],
   "source": [
    "n_core_available = get_n_core(100)\n",
    "f_add_RNA_structure(dir_database, n_core_available)\n",
    "f_sieve_target_2(dir_database)"
   ]
  },
  {
   "cell_type": "markdown",
   "id": "267998ba-5cbf-408d-ad4c-25b5be15f5a6",
   "metadata": {},
   "source": [
    "## Cut in smaller chunks and export for off-target & qPCR search"
   ]
  },
  {
   "cell_type": "code",
   "execution_count": 9,
   "id": "e1a80645-e399-4fc7-b0b9-7b27a6e5bb32",
   "metadata": {
    "scrolled": true
   },
   "outputs": [
    {
     "name": "stdout",
     "output_type": "stream",
     "text": [
      "2023-12-30 16:20:42.764504 Prepare the list of target candidates for off-target search\n",
      "\n",
      "Show stats for the `whole` dataset with all candidates:\n",
      "4919 entries are found\n",
      "Result contained targets for 177 genes\n",
      "Number of genes with [1-2, 3-5, 6-] targets: [0, 12, 165]\n",
      "\n",
      "Show stats for the `strict` dataset with candidates passing filters:\n",
      "1896 entries are found\n",
      "Result contained targets for 172 genes\n",
      "Number of genes with [1-2, 3-5, 6-] targets: [19, 39, 114]\n",
      "\n",
      "For the genes with only < 6 + 1 candidates, try salvaging candidates from the `whole` list:\n",
      "Salvage applied to 79 genes in combination\n",
      "\n",
      "Show stats for the salvaged dataset:\n",
      "2515 entries are found\n",
      "Result contained targets for 177 genes\n",
      "Number of genes with [1-2, 3-5, 6-] targets: [0, 12, 165]\n",
      "\n",
      "Save as .pickle\n",
      "2023-12-30 16:20:42.816365 Saved to /workdir/temp/CRISPR/database/Bigelowiella_natans_ASM245v1/result/NGG_target_candidate/pd_selected_before_offtarget.pickle\n",
      "2023-12-30 16:20:42.817887 Cut into chunks & export as pseudo-binary string\n",
      "Done.\n",
      "2023-12-30 16:20:42.829684 Cut into chunks & export\n",
      "Done.\n"
     ]
    }
   ],
   "source": [
    "f_prepare_massive_search(dir_database)"
   ]
  },
  {
   "cell_type": "markdown",
   "id": "59b28a50-caea-4f6c-805d-5a5464747080",
   "metadata": {},
   "source": [
    "# Extract genomic NAG/NGG"
   ]
  },
  {
   "cell_type": "code",
   "execution_count": 10,
   "id": "6f3431cd-76e0-44cc-87fe-04a27e78fd09",
   "metadata": {
    "scrolled": true
   },
   "outputs": [
    {
     "name": "stdout",
     "output_type": "stream",
     "text": [
      "##############################################\n",
      "2023-12-30 16:20:42.878368 Extract all [20nt]NAG/NGG on genome\n",
      "2023-12-30 16:20:42.881256 Process chr No. 1 (accession: NC_010004.1 )\n",
      "10525 (forward), 10668 (rev-com) NAG/NGG were found\n",
      "Output to /workdir/temp/CRISPR/database/Bigelowiella_natans_ASM245v1/result/NGG_genomic/pickle\n",
      "2023-12-30 16:20:43.128889 Cut into chunks & export as pseudo-binary string\n",
      "Done.\n",
      "2023-12-30 16:20:43.169947 Cut into chunks & export as pseudo-binary string\n",
      "Done.\n",
      "2023-12-30 16:20:43.216500 Process chr No. 2 (accession: NC_010005.1 )\n",
      "10461 (forward), 10145 (rev-com) NAG/NGG were found\n",
      "Output to /workdir/temp/CRISPR/database/Bigelowiella_natans_ASM245v1/result/NGG_genomic/pickle\n",
      "2023-12-30 16:20:43.421888 Cut into chunks & export as pseudo-binary string\n",
      "Done.\n",
      "2023-12-30 16:20:43.459064 Cut into chunks & export as pseudo-binary string\n",
      "Done.\n",
      "2023-12-30 16:20:43.492719 Process chr No. 3 (accession: NC_010006.1 )\n",
      "7729 (forward), 7760 (rev-com) NAG/NGG were found\n",
      "Output to /workdir/temp/CRISPR/database/Bigelowiella_natans_ASM245v1/result/NGG_genomic/pickle\n",
      "2023-12-30 16:20:43.582370 Cut into chunks & export as pseudo-binary string\n",
      "Done.\n",
      "2023-12-30 16:20:43.605661 Cut into chunks & export as pseudo-binary string\n",
      "Done.\n",
      "2023-12-30 16:20:43.628128 Process chr No. 4 (accession: NC_008408.1 )\n",
      "5651 (forward), 5511 (rev-com) NAG/NGG were found\n",
      "Output to /workdir/temp/CRISPR/database/Bigelowiella_natans_ASM245v1/result/NGG_genomic/pickle\n",
      "2023-12-30 16:20:43.686572 Cut into chunks & export as pseudo-binary string\n",
      "Done.\n",
      "2023-12-30 16:20:43.705926 Cut into chunks & export as pseudo-binary string\n",
      "Done.\n",
      "68450 NAG/NGG were found in the whole genome\n"
     ]
    }
   ],
   "source": [
    "f_extract_NGG_genomic(dir_database)"
   ]
  },
  {
   "cell_type": "markdown",
   "id": "0d687da2-7d3a-4830-a63b-29afff154c86",
   "metadata": {},
   "source": [
    "# Off-target score"
   ]
  },
  {
   "cell_type": "markdown",
   "id": "75c3febb-2a40-4681-ade7-9875aaa6ec1d",
   "metadata": {},
   "source": [
    "## Parallel calculation"
   ]
  },
  {
   "cell_type": "code",
   "execution_count": 11,
   "id": "25a81f6a-f6c7-4b79-a484-af806d0745cd",
   "metadata": {
    "jupyter": {
     "source_hidden": true
    },
    "scrolled": true
   },
   "outputs": [
    {
     "name": "stdout",
     "output_type": "stream",
     "text": [
      "All cores: 4\n",
      "Idle cores: 4\n",
      "2023-12-30 16:20:44.747042 Start processing 8 jobs in total\n",
      "Use 4 cores in parallel\n",
      "2023-12-30 16:20:44.7651922023-12-30 16:20:44.765721  Calculate off-target scores forCalculate off-target scores for  targets: targets: 000000000000000 000000000000000genome: 001_r_000000000000000 genome:  in process 001_f_00000000000000024578 in process \n",
      "24577\n",
      "2023-12-30 16:20:46.754959 Output to /workdir/temp/CRISPR/database/Bigelowiella_natans_ASM245v1/result/off_target/offtarget_score_000000000000000_x_001_f_000000000000000.pickle\n",
      "2023-12-30 16:20:46.775097 Calculate off-target scores for targets: 000000000000000 genome: 002_f_000000000000000 in process 2023-12-30 16:20:46.80901224577 Output to\n",
      " /workdir/temp/CRISPR/database/Bigelowiella_natans_ASM245v1/result/off_target/offtarget_score_000000000000000_x_001_r_000000000000000.pickle\n",
      "2023-12-30 16:20:46.825192 Calculate off-target scores for targets: 000000000000000 genome: 002_r_000000000000000 in process 24578\n",
      "2023-12-30 16:20:48.771245 Output to /workdir/temp/CRISPR/database/Bigelowiella_natans_ASM245v1/result/off_target/offtarget_score_000000000000000_x_002_f_000000000000000.pickle\n",
      "2023-12-30 16:20:48.789299 2023-12-30 16:20:48.794858Calculate off-target scores for Output to  targets:/workdir/temp/CRISPR/database/Bigelowiella_natans_ASM245v1/result/off_target/offtarget_score_000000000000000_x_002_r_000000000000000.pickle\n",
      " 0000000000000002023-12-30 16:20:48.814367  genome:Calculate off-target scores for  003_f_000000000000000targets:  in process000000000000000  24577\n",
      "genome: 003_r_000000000000000 in process 24578\n",
      "2023-12-30 16:20:50.247911 2023-12-30 16:20:50.253073Output to  Output to /workdir/temp/CRISPR/database/Bigelowiella_natans_ASM245v1/result/off_target/offtarget_score_000000000000000_x_003_f_000000000000000.pickle/workdir/temp/CRISPR/database/Bigelowiella_natans_ASM245v1/result/off_target/offtarget_score_000000000000000_x_003_r_000000000000000.pickle\n",
      "\n",
      "2023-12-30 16:20:50.290790 Calculate off-target scores for 2023-12-30 16:20:50.294394 targets: 000000000000000 Calculate off-target scores for genome:targets: 004_f_000000000000000 in process  24577\n",
      "000000000000000 genome: 004_r_000000000000000 in process 24578\n",
      "2023-12-30 16:20:51.383197 Output to /workdir/temp/CRISPR/database/Bigelowiella_natans_ASM245v1/result/off_target/offtarget_score_000000000000000_x_004_r_000000000000000.pickle\n",
      "2023-12-30 16:20:51.403419 Output to /workdir/temp/CRISPR/database/Bigelowiella_natans_ASM245v1/result/off_target/offtarget_score_000000000000000_x_004_f_000000000000000.pickle\n",
      "2023-12-30 16:20:51.417814 Done parallel processing.\n"
     ]
    }
   ],
   "source": [
    "list_args, n_core_available = f_offtarget_prepare_args(dir_database, use_percent=100)\n",
    "result = cmulti.main_multiprocessing(cmulti.calc_offtarget_score, list_args, core_num=n_core_available)"
   ]
  },
  {
   "cell_type": "markdown",
   "id": "1158631a-7e4f-4d38-9564-aa7ebb0581b5",
   "metadata": {},
   "source": [
    "## Sum up"
   ]
  },
  {
   "cell_type": "code",
   "execution_count": 12,
   "id": "1f5aaf25-287f-495f-a735-702e5f26a11d",
   "metadata": {
    "scrolled": true
   },
   "outputs": [
    {
     "name": "stdout",
     "output_type": "stream",
     "text": [
      "2023-12-30 16:20:51.423775 Sum up the calculated off-target scores\n",
      "Process files in /workdir/temp/CRISPR/database/Bigelowiella_natans_ASM245v1/result/off_target\n",
      "8 files are found\n",
      "2023-12-30 16:20:51.427657 Processing file 1 : offtarget_score_000000000000000_x_001_f_000000000000000\n",
      "2023-12-30 16:20:51.436184 Processing file 2 : offtarget_score_000000000000000_x_001_r_000000000000000\n",
      "2023-12-30 16:20:51.445237 Processing file 3 : offtarget_score_000000000000000_x_002_f_000000000000000\n",
      "2023-12-30 16:20:51.454673 Processing file 4 : offtarget_score_000000000000000_x_002_r_000000000000000\n",
      "2023-12-30 16:20:51.466389 Processing file 5 : offtarget_score_000000000000000_x_003_f_000000000000000\n",
      "2023-12-30 16:20:51.473947 Processing file 6 : offtarget_score_000000000000000_x_003_r_000000000000000\n",
      "2023-12-30 16:20:51.482386 Processing file 7 : offtarget_score_000000000000000_x_004_f_000000000000000\n",
      "2023-12-30 16:20:51.490092 Processing file 8 : offtarget_score_000000000000000_x_004_r_000000000000000\n",
      "2023-12-30 16:20:51.500688 Saved to /workdir/temp/CRISPR/database/Bigelowiella_natans_ASM245v1/result/off_target_score_sum.pickle\n",
      "2023-12-30 16:20:51.500744 Done.\n"
     ]
    }
   ],
   "source": [
    "f_offtarget_result_sum(dir_database)"
   ]
  },
  {
   "cell_type": "markdown",
   "id": "622eb8a4-cb0f-4381-a04e-4542b491dda7",
   "metadata": {},
   "source": [
    "# qPCR primers"
   ]
  },
  {
   "cell_type": "markdown",
   "id": "3eec4e21-273e-47a4-8196-7e7f351182db",
   "metadata": {},
   "source": [
    "## Parallel calculation"
   ]
  },
  {
   "cell_type": "code",
   "execution_count": 13,
   "id": "6e05f8b7-45b5-4650-a82d-0d2d283554a5",
   "metadata": {
    "scrolled": true
   },
   "outputs": [
    {
     "name": "stdout",
     "output_type": "stream",
     "text": [
      "All cores: 4\n",
      "Idle cores: 4\n",
      "2023-12-30 16:20:52.516466 Start processing 11 jobs in total\n",
      "Use 4 cores in parallel\n",
      "2023-12-30 16:20:52.5322602023-12-30 16:20:52.533016 Calculate qPCR primers for  Calculate qPCR primers fortargets:  targets:000000000000000  000000000000502 in processin process 24935\n",
      " 24936\n",
      "Load new\n",
      "Load new\n",
      "2023-12-30 16:43:16.527561 Output to /workdir/temp/CRISPR/database/Bigelowiella_natans_ASM245v1/result/qPCR/qPCR_primer_000000000000502.pickle\n",
      "2023-12-30 16:43:16.545574 Calculate qPCR primers for targets: 000000000000753 in process 24936\n",
      "Load new\n",
      "2023-12-30 16:51:26.992918 Output to /workdir/temp/CRISPR/database/Bigelowiella_natans_ASM245v1/result/qPCR/qPCR_primer_000000000000000.pickle\n",
      "2023-12-30 16:51:27.010443 Calculate qPCR primers for targets: 000000000000251 in process 24935\n",
      "Load new\n",
      "Load new\n",
      "2023-12-30 17:14:44.700465 Output to /workdir/temp/CRISPR/database/Bigelowiella_natans_ASM245v1/result/qPCR/qPCR_primer_000000000000753.pickle\n",
      "2023-12-30 17:14:44.719633 Calculate qPCR primers for targets: 000000000001004 in process 24936\n",
      "Load new\n",
      "2023-12-30 17:38:20.241377 Output to /workdir/temp/CRISPR/database/Bigelowiella_natans_ASM245v1/result/qPCR/qPCR_primer_000000000001004.pickle\n",
      "2023-12-30 17:38:20.257482 Calculate qPCR primers for targets: 000000000001255 in process 24936\n",
      "Load new\n",
      "2023-12-30 17:39:20.567031 Output to /workdir/temp/CRISPR/database/Bigelowiella_natans_ASM245v1/result/qPCR/qPCR_primer_000000000000251.pickle\n",
      "2023-12-30 17:39:20.591696 Calculate qPCR primers for targets: 000000000001506 in process 24935\n",
      "Load new\n",
      "2023-12-30 18:02:00.752395 Output to /workdir/temp/CRISPR/database/Bigelowiella_natans_ASM245v1/result/qPCR/qPCR_primer_000000000001255.pickle\n",
      "2023-12-30 18:02:00.788847 Calculate qPCR primers for targets: 000000000002008 in process 24936\n",
      "Load new\n",
      "2023-12-30 18:09:30.140702 Output to /workdir/temp/CRISPR/database/Bigelowiella_natans_ASM245v1/result/qPCR/qPCR_primer_000000000001506.pickle\n",
      "2023-12-30 18:09:30.158750 Calculate qPCR primers for targets: 000000000001757 in process 24935\n",
      "Load new\n",
      "Load new\n",
      "2023-12-30 18:25:13.317493 Output to /workdir/temp/CRISPR/database/Bigelowiella_natans_ASM245v1/result/qPCR/qPCR_primer_000000000002008.pickle\n",
      "2023-12-30 18:25:13.339885 Calculate qPCR primers for targets: 000000000002259 in process 24936\n",
      "Load new\n",
      "2023-12-30 18:28:54.538533 Output to /workdir/temp/CRISPR/database/Bigelowiella_natans_ASM245v1/result/qPCR/qPCR_primer_000000000001757.pickle\n",
      "2023-12-30 18:28:54.558300 Calculate qPCR primers for targets: 000000000002510 in process 24935\n",
      "Load new\n",
      "2023-12-30 18:29:03.932532 Output to /workdir/temp/CRISPR/database/Bigelowiella_natans_ASM245v1/result/qPCR/qPCR_primer_000000000002510.pickle\n",
      "2023-12-30 18:42:15.899279 Output to /workdir/temp/CRISPR/database/Bigelowiella_natans_ASM245v1/result/qPCR/qPCR_primer_000000000002259.pickle\n",
      "2023-12-30 18:42:15.935945 Done parallel processing.\n"
     ]
    }
   ],
   "source": [
    "list_args, n_core_available = f_qPCR_prepare_args(dir_database, use_percent=100)\n",
    "result = cmulti.main_multiprocessing(cmulti.calc_qPCR, list_args, core_num=n_core_available)"
   ]
  },
  {
   "cell_type": "markdown",
   "id": "c990934f-62c0-4dc8-abe8-7e23a5587f26",
   "metadata": {},
   "source": [
    "## Sum up"
   ]
  },
  {
   "cell_type": "code",
   "execution_count": 14,
   "id": "9cc1bd31-d0ae-442b-9ad0-72c94d6a27b8",
   "metadata": {
    "scrolled": true
   },
   "outputs": [
    {
     "name": "stdout",
     "output_type": "stream",
     "text": [
      "2023-12-30 18:42:15.955735 Sum up the calculated off-target scores\n",
      "Process files in /workdir/temp/CRISPR/database/Bigelowiella_natans_ASM245v1/result/qPCR\n",
      "11 files are found\n",
      "2023-12-30 18:42:15.961842 Processing file 1 : qPCR_primer_000000000000000\n",
      "2023-12-30 18:42:15.979474 Processing file 2 : qPCR_primer_000000000000251\n",
      "2023-12-30 18:42:15.989672 Processing file 3 : qPCR_primer_000000000000502\n",
      "2023-12-30 18:42:15.997609 Processing file 4 : qPCR_primer_000000000000753\n",
      "2023-12-30 18:42:16.004454 Processing file 5 : qPCR_primer_000000000001004\n",
      "2023-12-30 18:42:16.010909 Processing file 6 : qPCR_primer_000000000001255\n",
      "2023-12-30 18:42:16.019487 Processing file 7 : qPCR_primer_000000000001506\n",
      "2023-12-30 18:42:16.027929 Processing file 8 : qPCR_primer_000000000001757\n",
      "2023-12-30 18:42:16.036833 Processing file 9 : qPCR_primer_000000000002008\n",
      "2023-12-30 18:42:16.046173 Processing file 10 : qPCR_primer_000000000002259\n",
      "2023-12-30 18:42:16.054594 Processing file 11 : qPCR_primer_000000000002510\n",
      "2515 entries were found in total. Please confirm that this number is the same as the number of gRNA targets.\n",
      "2023-12-30 18:42:16.070860 Saved to /workdir/temp/CRISPR/database/Bigelowiella_natans_ASM245v1/result/qPCR_primer_aggregated.pickle\n",
      "2023-12-30 18:42:16.070921 Done.\n"
     ]
    }
   ],
   "source": [
    "f_qPCR_result_aggregate(dir_database)"
   ]
  },
  {
   "cell_type": "markdown",
   "id": "6a2b78c7-5283-4055-ba1a-fe7cf363a841",
   "metadata": {},
   "source": [
    "# Final processing\n",
    "Combine the results of all analyses and export\n",
    "- Transform off-target scores to the final form\n",
    "- Flag where qPCR primers are missing"
   ]
  },
  {
   "cell_type": "code",
   "execution_count": 15,
   "id": "e150ad03-1bcd-43a4-a86c-844455badab5",
   "metadata": {
    "scrolled": true
   },
   "outputs": [
    {
     "name": "stdout",
     "output_type": "stream",
     "text": [
      "2023-12-30 18:42:16.078231 Start final processing\n",
      "Reading data...\n",
      "Everything else than off-target search and qPCR search: /workdir/temp/CRISPR/database/Bigelowiella_natans_ASM245v1/result/NGG_target_candidate/pd_selected_before_offtarget.pickle\n",
      "Off-target scores: /workdir/temp/CRISPR/database/Bigelowiella_natans_ASM245v1/result/off_target_score_sum.pickle\n",
      "qPCR primers: /workdir/temp/CRISPR/database/Bigelowiella_natans_ASM245v1/result/qPCR_primer_aggregated.pickle\n",
      "2023-12-30 18:42:16.127071 Final calculation of off-target scores...\n",
      "2023-12-30 18:42:16.142878 Final calculation of qPCR primers...\n",
      "2023-12-30 18:42:16.173446 Add primer sequences for AAV construction...\n",
      "2515 entries are found\n",
      "Result contained targets for 177 genes\n",
      "Number of genes with [1-2, 3-5, 6-] targets: [0, 12, 165]\n",
      "2023-12-30 18:42:16.189293 Sort...\n"
     ]
    },
    {
     "name": "stderr",
     "output_type": "stream",
     "text": [
      "<string>:1384: SettingWithCopyWarning: \n",
      "A value is trying to be set on a copy of a slice from a DataFrame.\n",
      "Try using .loc[row_indexer,col_indexer] = value instead\n",
      "\n",
      "See the caveats in the documentation: https://pandas.pydata.org/pandas-docs/stable/user_guide/indexing.html#returning-a-view-versus-a-copy\n",
      "<string>:1385: SettingWithCopyWarning: \n",
      "A value is trying to be set on a copy of a slice from a DataFrame.\n",
      "Try using .loc[row_indexer,col_indexer] = value instead\n",
      "\n",
      "See the caveats in the documentation: https://pandas.pydata.org/pandas-docs/stable/user_guide/indexing.html#returning-a-view-versus-a-copy\n"
     ]
    },
    {
     "name": "stdout",
     "output_type": "stream",
     "text": [
      "\n",
      "2023-12-30 18:42:17.238482 Export the final version\n",
      "2023-12-30 18:42:17.266010 Saved to /workdir/temp/CRISPR/database/Bigelowiella_natans_ASM245v1/result/final/final_sort_pos.pickle\n",
      "2023-12-30 18:42:17.339924 Saved to /workdir/temp/CRISPR/database/Bigelowiella_natans_ASM245v1/result/final/final_sort_pos.csv\n",
      "2023-12-30 18:42:17.339993 Cut into chunks & export to /workdir/temp/CRISPR/database/Bigelowiella_natans_ASM245v1/result/final/final_sort_pos\n",
      "2023-12-30 18:42:17.407090 Completed export to 1 file(s)\n",
      "2023-12-30 18:42:17.411745 Exported summary to /workdir/temp/CRISPR/database/Bigelowiella_natans_ASM245v1/result/final/final_sort_pos_summary.csv\n",
      "\n",
      "2023-12-30 18:42:18.506523 Saved to /workdir/temp/CRISPR/database/Bigelowiella_natans_ASM245v1/result/final/final_sort_name.pickle\n",
      "2023-12-30 18:42:18.582379 Saved to /workdir/temp/CRISPR/database/Bigelowiella_natans_ASM245v1/result/final/final_sort_name.csv\n",
      "2023-12-30 18:42:18.582452 Cut into chunks & export to /workdir/temp/CRISPR/database/Bigelowiella_natans_ASM245v1/result/final/final_sort_name\n",
      "2023-12-30 18:42:18.654369 Completed export to 1 file(s)\n",
      "2023-12-30 18:42:18.658127 Exported summary to /workdir/temp/CRISPR/database/Bigelowiella_natans_ASM245v1/result/final/final_sort_name_summary.csv\n",
      "\n",
      "2023-12-30 18:42:18.658184 All done, congratulations!\n"
     ]
    }
   ],
   "source": [
    "f_final_processing(dir_database)"
   ]
  }
 ],
 "metadata": {
  "kernelspec": {
   "display_name": "Python 3 (ipykernel)",
   "language": "python",
   "name": "python3"
  },
  "language_info": {
   "codemirror_mode": {
    "name": "ipython",
    "version": 3
   },
   "file_extension": ".py",
   "mimetype": "text/x-python",
   "name": "python",
   "nbconvert_exporter": "python",
   "pygments_lexer": "ipython3",
   "version": "3.10.12"
  }
 },
 "nbformat": 4,
 "nbformat_minor": 5
}
