{
 "cells": [
  {
   "cell_type": "markdown",
   "id": "addb3aef",
   "metadata": {},
   "source": [
    "# Initial preparation"
   ]
  },
  {
   "cell_type": "markdown",
   "id": "8cca1159-74e1-4770-8977-3c85952de4d1",
   "metadata": {},
   "source": [
    "## Load scripts"
   ]
  },
  {
   "cell_type": "code",
   "execution_count": 1,
   "id": "48253c2c-0cd6-43b8-b8fd-851a28943dce",
   "metadata": {},
   "outputs": [
    {
     "data": {
      "text/html": [
       "<style>.container { width:100% !important; }</style>"
      ],
      "text/plain": [
       "<IPython.core.display.HTML object>"
      ]
     },
     "metadata": {},
     "output_type": "display_data"
    },
    {
     "name": "stdout",
     "output_type": "stream",
     "text": [
      "Root directory: D:\\temp\\CRISPR\n",
      "Loaded functions: 2023-11-28 05:55:06.016449\n"
     ]
    }
   ],
   "source": [
    "from IPython.display import display, HTML\n",
    "display(HTML(\"<style>.container { width:100% !important; }</style>\"))\n",
    "\n",
    "import os\n",
    "os.chdir(\"..\")\n",
    "dir_root = os.getcwd()\n",
    "print(\"Root directory:\", dir_root)\n",
    "\n",
    "# Load functions\n",
    "os.chdir(os.path.join(dir_root, \"script\"))\n",
    "with open(\"function.py\") as f:\n",
    "    code = f.read()\n",
    "    exec(code)\n",
    "\n",
    "# Load customized multicore functions\n",
    "import custom_multicore as cmulti\n",
    "\n",
    "print('Loaded functions:', datetime.now())\n",
    "os.chdir(dir_root)"
   ]
  },
  {
   "cell_type": "markdown",
   "id": "3c8b2e2b-36df-43c7-a1f3-fe849bf80424",
   "metadata": {},
   "source": [
    "## [Specify each time!] database name and sources\n",
    "- `database_name`: arbitrary, might be [scientific_name]_[genome version]\n",
    " - `url_genome`, `url_rna`: URL of RefSeq data\n",
    "   - you may look through the folder specified below\n",
    "   - and retrieve the newest version or data for another species\n",
    "   - `url_genome`: usually ends in \"_genomic.fna.gz\" and the file size is largest in the folder\n",
    "   - `url_rna`: usually ends in \"_rna_from_genomic.fna.gz\""
   ]
  },
  {
   "cell_type": "code",
   "execution_count": 2,
   "id": "1a837da7-ca3d-4697-bdbc-675bb6a2969e",
   "metadata": {},
   "outputs": [
    {
     "name": "stdout",
     "output_type": "stream",
     "text": [
      "Database directory: D:\\temp\\CRISPR\\database\\Saccharomyces_cerevisiae_R64\n"
     ]
    }
   ],
   "source": [
    "# Mouse, an old version\n",
    "# database_name = \"Mus_musculus_GRCm38_p4\"\n",
    "# url_genome = 'https://ftp.ncbi.nlm.nih.gov/genomes/refseq/vertebrate_mammalian/Mus_musculus/all_assembly_versions/GCF_000001635.24_GRCm38.p4/GCF_000001635.24_GRCm38.p4_genomic.fna.gz'\n",
    "# url_rna = 'https://ftp.ncbi.nlm.nih.gov/genomes/refseq/vertebrate_mammalian/Mus_musculus/all_assembly_versions/GCF_000001635.24_GRCm38.p4/GCF_000001635.24_GRCm38.p4_rna_from_genomic.fna.gz'\n",
    "\n",
    "# Budding yeast\n",
    "database_name = \"Saccharomyces_cerevisiae_R64\"\n",
    "url_genome = \"https://ftp.ncbi.nlm.nih.gov/genomes/refseq/fungi/Saccharomyces_cerevisiae/all_assembly_versions/GCF_000146045.2_R64/GCF_000146045.2_R64_genomic.fna.gz\"\n",
    "url_rna = \"https://ftp.ncbi.nlm.nih.gov/genomes/refseq/fungi/Saccharomyces_cerevisiae/all_assembly_versions/GCF_000146045.2_R64/GCF_000146045.2_R64_rna_from_genomic.fna.gz\"\n",
    "\n",
    "dir_database = os.path.join(dir_root, \"database\", database_name)\n",
    "print(\"Database directory:\", dir_database)"
   ]
  },
  {
   "cell_type": "code",
   "execution_count": null,
   "id": "d8b5040c-5eb1-4efc-a244-6e17574821e5",
   "metadata": {},
   "outputs": [],
   "source": [
    "# # Failed, no mRNA\n",
    "# # Methanocaldococcus_jannaschii (Archaea)\n",
    "# database_name = \"Methanocaldococcus_jannaschii_ASM9166v1\"\n",
    "# url_genome = \"https://ftp.ncbi.nlm.nih.gov/genomes/refseq/archaea/Methanocaldococcus_jannaschii/all_assembly_versions/GCF_000091665.1_ASM9166v1/GCF_000091665.1_ASM9166v1_genomic.fna.gz\"\n",
    "# url_rna = \"https://ftp.ncbi.nlm.nih.gov/genomes/refseq/archaea/Methanocaldococcus_jannaschii/all_assembly_versions/GCF_000091665.1_ASM9166v1/GCF_000091665.1_ASM9166v1_rna_from_genomic.fna.gz\"\n",
    "\n",
    "# # Acidianus_ambivalens (Archaea)\n",
    "# database_name = \"Acidianus_ambivalens_ASM972901v1\"\n",
    "# url_genome = \"https://ftp.ncbi.nlm.nih.gov/genomes/refseq/archaea/Acidianus_ambivalens/all_assembly_versions/GCF_009729015.1_ASM972901v1/GCF_009729015.1_ASM972901v1_genomic.fna.gz\"\n",
    "# url_rna = \"https://ftp.ncbi.nlm.nih.gov/genomes/refseq/archaea/Acidianus_ambivalens/all_assembly_versions/GCF_009729015.1_ASM972901v1/GCF_009729015.1_ASM972901v1_rna_from_genomic.fna.gz\"\n",
    "\n",
    "# # E.coli (Bacteria)\n",
    "# database_name = \"Escherichia_coli_ASM1757068v1\"\n",
    "# url_genome = \"https://ftp.ncbi.nlm.nih.gov/genomes/all/GCF/017/570/685/GCF_017570685.1_ASM1757068v1/GCF_017570685.1_ASM1757068v1_genomic.fna.gz\"\n",
    "# url_rna = \"https://ftp.ncbi.nlm.nih.gov/genomes/all/GCF/017/570/685/GCF_017570685.1_ASM1757068v1/GCF_017570685.1_ASM1757068v1_rna_from_genomic.fna.gz\"\n",
    "\n",
    "# # Failed, with RNA but with no NM_ RNA\n",
    "# # Encephalitozoon intestinalis (smallest eukaryote genome)\n",
    "# database_name = \"Encephalitozoon_intestinalis_ASM14646v1\"\n",
    "# url_genome = \"https://ftp.ncbi.nlm.nih.gov/genomes/all/GCF/000/146/465/GCF_000146465.1_ASM14646v1/GCF_000146465.1_ASM14646v1_genomic.fna.gz\"\n",
    "# url_rna = \"https://ftp.ncbi.nlm.nih.gov/genomes/all/GCF/000/146/465/GCF_000146465.1_ASM14646v1/GCF_000146465.1_ASM14646v1_rna_from_genomic.fna.gz\"\n",
    "\n",
    "# # Guillardia_theta\n",
    "# database_name = \"Guillardia_theta_ASM297v1\"\n",
    "# url_genome = \"https://ftp.ncbi.nlm.nih.gov/genomes/all/GCF/000/002/975/GCF_000002975.1_ASM297v1/GCF_000002975.1_ASM297v1_genomic.fna.gz\"\n",
    "# url_rna = \"https://ftp.ncbi.nlm.nih.gov/genomes/all/GCF/000/002/975/GCF_000002975.1_ASM297v1/GCF_000002975.1_ASM297v1_rna_from_genomic.fna.gz\""
   ]
  },
  {
   "cell_type": "markdown",
   "id": "fe2831f0-b630-4cac-a026-58281037a1a7",
   "metadata": {},
   "source": [
    "## Make directories and download the data"
   ]
  },
  {
   "cell_type": "code",
   "execution_count": 4,
   "id": "862486d4-cae3-4e2c-b53d-9f5a59d01468",
   "metadata": {
    "scrolled": true
   },
   "outputs": [
    {
     "name": "stdout",
     "output_type": "stream",
     "text": [
      "Download from: https://ftp.ncbi.nlm.nih.gov/genomes/refseq/fungi/Saccharomyces_cerevisiae/all_assembly_versions/GCF_000146045.2_R64/GCF_000146045.2_R64_genomic.fna.gz\n",
      "Size: 3843460 bytes\n",
      "Download to: D:\\temp\\CRISPR\\database\\Saccharomyces_cerevisiae_R64\\source\\genome.gz\n",
      ".Download from: https://ftp.ncbi.nlm.nih.gov/genomes/refseq/fungi/Saccharomyces_cerevisiae/all_assembly_versions/GCF_000146045.2_R64/GCF_000146045.2_R64_rna_from_genomic.fna.gz\n",
      "Size: 3050352 bytes\n",
      "Download to: D:\\temp\\CRISPR\\database\\Saccharomyces_cerevisiae_R64\\source\\rna.gz\n",
      "."
     ]
    }
   ],
   "source": [
    "os.chdir(dir_root)\n",
    "f_setup_directory(dir_database)\n",
    "f_initial_directory_setup(dir_database, \n",
    "                        {url_genome: \"genome.gz\", url_rna: \"rna.gz\",}\n",
    "                       )"
   ]
  },
  {
   "cell_type": "markdown",
   "id": "5a7440b7-2a77-4984-a0ec-1dedb2f10b2e",
   "metadata": {},
   "source": [
    "# [For test, everything else than Chr.1 is manually deleted]\n",
    "- chromosome/chr[2,3,...].fasta"
   ]
  },
  {
   "cell_type": "code",
   "execution_count": 5,
   "id": "284b5522-16d6-4ecb-9f9d-8c5a74c6efd0",
   "metadata": {},
   "outputs": [
    {
     "name": "stdout",
     "output_type": "stream",
     "text": [
      "##############################################\n",
      "2023-11-27 16:01:40.767916 Extract genome sequence\n",
      "Loading genome data...\n",
      "2023-11-27 16:01:41.080146 17 records were found. Picking out full chromosomes only...\n",
      "NC_001133.9 NC_001133.9 Saccharomyces cerevisiae S288C chromosome I, complete sequence\n",
      "2023-11-27 16:01:41.103752 Saved chr_1.fasta\n",
      "1 Chromosome(s) found\n",
      "2023-11-27 16:01:41.119387 Saved list_chr_id.csv\n",
      "2023-11-27 16:01:41.119387 Saved list_chr_desc.csv\n",
      "2023-11-27 16:01:41.119387 Saved dict_chr.pickle\n"
     ]
    }
   ],
   "source": [
    "def f_parse_sequence(dir_database):\n",
    "    '''\n",
    "    Extract chromosomal genomic sequence per chromosome\n",
    "    '''\n",
    "    print('##############################################')\n",
    "    print(datetime.now(), \"Extract genome sequence\")\n",
    "    print(\"Loading genome data...\")\n",
    "    os.chdir(os.path.join(dir_database, \"source\"))\n",
    "    with gzip.open(\"genome.gz\", \"rt\") as handle:\n",
    "        gb_record = list(SeqIO.parse(handle, \"fasta\"))\n",
    "    print(datetime.now(), len(gb_record), \n",
    "        \"records were found. Picking out full chromosomes only...\")\n",
    "    os.chdir(os.path.join(dir_database, \"result\", \"chromosome\"))\n",
    "    i_seq = 1\n",
    "    list_chr_id = []\n",
    "    list_chr_desc = []\n",
    "    for sequence in gb_record:\n",
    "        # Remove unlocalized contigs or scaffolds\n",
    "        # and save the full chromosomes only\n",
    "        seq_id = sequence.id\n",
    "        seq_desc = sequence.description\n",
    "        if ((seq_id.find('NC_') > -1) or (seq_id.find('NZ_') > -1)) \\\n",
    "            and seq_desc.find('contig') == -1 \\\n",
    "            and seq_desc.find('mitochon') == -1 \\\n",
    "            and seq_desc.find('patch') == -1 \\\n",
    "            and seq_desc.find('scaffold') == -1 \\\n",
    "            and seq_desc.find('unlocalized') == -1 \\\n",
    "            and seq_desc.find('NW_') == -1 \\\n",
    "            and seq_desc.find('unplaced') == -1 \\\n",
    "            and i_seq == 1: ############################### Accept only the first chr\n",
    "            print(seq_id, seq_desc)\n",
    "            # Append to chromosome list table\n",
    "            list_chr_id.append([i_seq, seq_id])\n",
    "            list_chr_desc.append([i_seq, seq_desc])\n",
    "            # Convert the sequences\n",
    "            # All upper, ATGCN only\n",
    "            str_temp = sequence.seq.upper()\n",
    "            str_temp = ''.join(base if base in \"ATGCN\" else 'N' for base in str_temp)\n",
    "            sequence.seq = Seq(str_temp)\n",
    "            # Save as fasta\n",
    "            filename_chr = \"chr_\" + str(i_seq) + \".fasta\"\n",
    "            SeqIO.write([sequence], filename_chr, \"fasta\")            \n",
    "            print(datetime.now(), \"Saved\", filename_chr)\n",
    "            i_seq += 1\n",
    "    print(i_seq - 1, \"Chromosome(s) found\")\n",
    "    # Save the chromosome list table\n",
    "    f_save_csv(list_chr_id, 'list_chr_id.csv')\n",
    "    f_save_csv(list_chr_desc, 'list_chr_desc.csv')\n",
    "    dict_chr = {l[1]:int(l[0]) for l in list_chr_id}\n",
    "    # Chromosome ID-number correspondence table\n",
    "    # This is exceptionally saved in a .pickle format to conserve the variable types\n",
    "    # The information inside is equivalent to `list_chr_id.csv`\n",
    "    filename_list_chr = \"dict_chr.pickle\"\n",
    "    with open(filename_list_chr, mode='wb') as f:\n",
    "        pickle.dump(dict_chr, f)\n",
    "    print(datetime.now(), \"Saved\", filename_list_chr)\n",
    "\n",
    "f_parse_sequence(dir_database)"
   ]
  },
  {
   "cell_type": "markdown",
   "id": "9d321b84-d179-49a7-b921-db8a8452e733",
   "metadata": {},
   "source": [
    "# [Continue the usual pipeline]"
   ]
  },
  {
   "cell_type": "markdown",
   "id": "486e9ade-29ce-4d2d-8741-e2be9d816251",
   "metadata": {},
   "source": [
    "## Cut into chromosomal sequences\n",
    "- This makes many smaller files which are easier to handle, compared to the large single genome file"
   ]
  },
  {
   "cell_type": "code",
   "execution_count": 21,
   "id": "b55e96bc-4bfe-4dd4-b469-609f8796e003",
   "metadata": {
    "scrolled": true
   },
   "outputs": [
    {
     "name": "stdout",
     "output_type": "stream",
     "text": [
      "##############################################\n",
      "2023-11-27 15:45:18.988440 Extract genome sequence\n",
      "Loading genome data...\n",
      "2023-11-27 15:45:19.330748 17 records were found. Picking out full chromosomes only...\n",
      "NC_001133.9 NC_001133.9 Saccharomyces cerevisiae S288C chromosome I, complete sequence\n",
      "2023-11-27 15:45:19.377834 Saved chr_1.fasta\n",
      "NC_001134.8 NC_001134.8 Saccharomyces cerevisiae S288C chromosome II, complete sequence\n",
      "2023-11-27 15:45:19.500177 Saved chr_2.fasta\n",
      "NC_001135.5 NC_001135.5 Saccharomyces cerevisiae S288C chromosome III, complete sequence\n",
      "2023-11-27 15:45:19.543055 Saved chr_3.fasta\n",
      "NC_001136.10 NC_001136.10 Saccharomyces cerevisiae S288C chromosome IV, complete sequence\n",
      "2023-11-27 15:45:19.799124 Saved chr_4.fasta\n",
      "NC_001137.3 NC_001137.3 Saccharomyces cerevisiae S288C chromosome V, complete sequence\n",
      "2023-11-27 15:45:19.915167 Saved chr_5.fasta\n",
      "NC_001138.5 NC_001138.5 Saccharomyces cerevisiae S288C chromosome VI, complete sequence\n",
      "2023-11-27 15:45:19.967515 Saved chr_6.fasta\n",
      "NC_001139.9 NC_001139.9 Saccharomyces cerevisiae S288C chromosome VII, complete sequence\n",
      "2023-11-27 15:45:20.186142 Saved chr_7.fasta\n",
      "NC_001140.6 NC_001140.6 Saccharomyces cerevisiae S288C chromosome VIII, complete sequence\n",
      "2023-11-27 15:45:20.295634 Saved chr_8.fasta\n",
      "NC_001141.2 NC_001141.2 Saccharomyces cerevisiae S288C chromosome IX, complete sequence\n",
      "2023-11-27 15:45:20.360150 Saved chr_9.fasta\n",
      "NC_001142.9 NC_001142.9 Saccharomyces cerevisiae S288C chromosome X, complete sequence\n",
      "2023-11-27 15:45:20.511444 Saved chr_10.fasta\n",
      "NC_001143.9 NC_001143.9 Saccharomyces cerevisiae S288C chromosome XI, complete sequence\n",
      "2023-11-27 15:45:20.630383 Saved chr_11.fasta\n",
      "NC_001144.5 NC_001144.5 Saccharomyces cerevisiae S288C chromosome XII, complete sequence\n",
      "2023-11-27 15:45:20.848350 Saved chr_12.fasta\n",
      "NC_001145.3 NC_001145.3 Saccharomyces cerevisiae S288C chromosome XIII, complete sequence\n",
      "2023-11-27 15:45:21.017906 Saved chr_13.fasta\n",
      "NC_001146.8 NC_001146.8 Saccharomyces cerevisiae S288C chromosome XIV, complete sequence\n",
      "2023-11-27 15:45:21.170868 Saved chr_14.fasta\n",
      "NC_001147.6 NC_001147.6 Saccharomyces cerevisiae S288C chromosome XV, complete sequence\n",
      "2023-11-27 15:45:21.384668 Saved chr_15.fasta\n",
      "NC_001148.4 NC_001148.4 Saccharomyces cerevisiae S288C chromosome XVI, complete sequence\n",
      "2023-11-27 15:45:21.579419 Saved chr_16.fasta\n",
      "16 Chromosome(s) found\n",
      "2023-11-27 15:45:21.579419 Saved list_chr_id.csv\n",
      "2023-11-27 15:45:21.580939 Saved list_chr_desc.csv\n",
      "2023-11-27 15:45:21.580939 Saved dict_chr.pickle\n"
     ]
    }
   ],
   "source": [
    "# f_parse_sequence(dir_database)"
   ]
  },
  {
   "cell_type": "markdown",
   "id": "1d4ab7d5-55b2-48ce-9153-0654b889e836",
   "metadata": {},
   "source": [
    "## Extract mRNA info"
   ]
  },
  {
   "cell_type": "code",
   "execution_count": 6,
   "id": "1b338981-acc1-4413-88ae-bb4b2fcdff19",
   "metadata": {
    "scrolled": true
   },
   "outputs": [
    {
     "name": "stdout",
     "output_type": "stream",
     "text": [
      "##############################################\n",
      "2023-11-27 16:04:36.000452 Extract annotation\n",
      "2023-11-27 16:04:36.380027 6445 records were found\n",
      "mRNA: 6007\n",
      "Omit XM: 5995\n",
      "On a full chromosome: 5995\n",
      "gene-coding:  5241\n",
      "Not 5prime-partial:  5241\n",
      "Not 3prime-partial:  5241\n",
      "No special annotation:  5241\n",
      "\n",
      "All entries in the data is formatted as expected\n",
      "\n",
      "Make sure again that the source is full chromosome in dict_chr\n",
      "Passed all filters: 81\n",
      "Example data:\n",
      "           chr                 ID  gene  chr_file          mRNA_pos  \\\n",
      "0  NC_001133.9   NM_001180043.1_1  PAU8         1    [[1807, 2169]]   \n",
      "1  NC_001133.9   NM_001178208.1_3  SEO1         1    [[7235, 9016]]   \n",
      "2  NC_001133.9   NM_001180041.1_6  TDA8         1  [[13363, 13743]]   \n",
      "3  NC_001133.9   NM_001178205.1_9  FLO9         1  [[24000, 27968]]   \n",
      "4  NC_001133.9  NM_001178204.1_10  GDH3         1  [[31567, 32940]]   \n",
      "\n",
      "   is_on_revcom  \n",
      "0          True  \n",
      "1          True  \n",
      "2          True  \n",
      "3          True  \n",
      "4         False  \n",
      "Saved to D:\\temp\\CRISPR\\database\\Saccharomyces_cerevisiae_R64\\result\\mrna_pos.csv\n",
      "Saved to D:\\temp\\CRISPR\\database\\Saccharomyces_cerevisiae_R64\\result\\mrna_pos.pickle\n",
      "81 genes are found\n",
      "Saved to D:\\temp\\CRISPR\\database\\Saccharomyces_cerevisiae_R64\\result\\mrna_listed_gene.csv\n",
      "##############################################\n",
      "2023-11-27 16:04:36.569594 Calculate exonal common parts\n",
      "2023-11-27 16:04:36.569594 Process gene No. 0 PAU8\n",
      "2023-11-27 16:04:36.572102 Process gene No. 1 SEO1\n",
      "2023-11-27 16:04:36.572102 Process gene No. 2 TDA8\n",
      "2023-11-27 16:04:36.572102 Process gene No. 3 FLO9\n",
      "2023-11-27 16:04:36.572102 Process gene No. 4 GDH3\n",
      "2023-11-27 16:04:36.572102 Process gene No. 5 BDH2\n",
      "2023-11-27 16:04:36.579120 Process gene No. 6 BDH1\n",
      "2023-11-27 16:04:36.579120 Process gene No. 7 ECM1\n",
      "2023-11-27 16:04:36.579120 Process gene No. 8 CNE1\n",
      "2023-11-27 16:04:36.579120 Process gene No. 9 GPB2\n",
      "2023-11-27 16:04:36.579120 Process gene No. 10 PEX22\n",
      "2023-11-27 16:04:36.595343 Process gene No. 20 PTA1\n",
      "2023-11-27 16:04:36.614507 Process gene No. 30 POP5\n",
      "2023-11-27 16:04:36.627763 Process gene No. 40 PMT2\n",
      "2023-11-27 16:04:36.649228 Process gene No. 50 DEP1\n",
      "2023-11-27 16:04:36.662667 Process gene No. 60 TFC3\n",
      "2023-11-27 16:04:36.674749 Process gene No. 70 PAU7\n",
      "2023-11-27 16:04:36.688666 Process gene No. 80 PHO11\n",
      "Saved to D:\\temp\\CRISPR\\database\\Saccharomyces_cerevisiae_R64\\result\\mrna_common.csv\n",
      "Saved to D:\\temp\\CRISPR\\database\\Saccharomyces_cerevisiae_R64\\result\\mrna_common.pickle\n",
      "##############################################\n",
      "2023-11-27 16:04:36.694728 Calculate exonal union parts\n",
      "2023-11-27 16:04:36.694728 Process gene No. 0 PAU8\n",
      "2023-11-27 16:04:36.697799 Process gene No. 1 SEO1\n",
      "2023-11-27 16:04:36.697799 Process gene No. 2 TDA8\n",
      "2023-11-27 16:04:36.697799 Process gene No. 3 FLO9\n",
      "2023-11-27 16:04:36.697799 Process gene No. 4 GDH3\n",
      "2023-11-27 16:04:36.697799 Process gene No. 5 BDH2\n",
      "2023-11-27 16:04:36.697799 Process gene No. 6 BDH1\n",
      "2023-11-27 16:04:36.697799 Process gene No. 7 ECM1\n",
      "2023-11-27 16:04:36.697799 Process gene No. 8 CNE1\n",
      "2023-11-27 16:04:36.697799 Process gene No. 9 GPB2\n",
      "2023-11-27 16:04:36.707307 Process gene No. 10 PEX22\n",
      "2023-11-27 16:04:36.715591 Process gene No. 20 PTA1\n",
      "2023-11-27 16:04:36.726822 Process gene No. 30 POP5\n",
      "2023-11-27 16:04:36.726822 Process gene No. 40 PMT2\n",
      "2023-11-27 16:04:36.752630 Process gene No. 50 DEP1\n",
      "2023-11-27 16:04:36.766614 Process gene No. 60 TFC3\n",
      "2023-11-27 16:04:36.781706 Process gene No. 70 PAU7\n",
      "2023-11-27 16:04:36.799250 Process gene No. 80 PHO11\n",
      "Saved to D:\\temp\\CRISPR\\database\\Saccharomyces_cerevisiae_R64\\result\\mrna_union.csv\n",
      "Saved to D:\\temp\\CRISPR\\database\\Saccharomyces_cerevisiae_R64\\result\\mrna_union.pickle\n"
     ]
    }
   ],
   "source": [
    "f_parse_annotation(dir_database)"
   ]
  },
  {
   "cell_type": "markdown",
   "id": "105bfd61-1828-4ca6-888a-eea3115fd99b",
   "metadata": {},
   "source": [
    "# Target candidate extraction & rudimentary selection"
   ]
  },
  {
   "cell_type": "markdown",
   "id": "fc90677e-a702-45b7-976e-c368aaad7e59",
   "metadata": {},
   "source": [
    "## Extract target candidate NGGs"
   ]
  },
  {
   "cell_type": "code",
   "execution_count": 7,
   "id": "e6e72c88-a7ed-4786-93e7-b0c9ed39af43",
   "metadata": {
    "scrolled": true
   },
   "outputs": [
    {
     "name": "stdout",
     "output_type": "stream",
     "text": [
      "##############################################\n",
      "2023-11-27 16:05:06.625507 Extract NGG on exonal regions\n",
      "Loading data...\n",
      "2023-11-27 16:05:06.637122 Process chr No. 1\n",
      "Length =  230218\n",
      "Saved to D:\\temp\\CRISPR\\database\\Saccharomyces_cerevisiae_R64\\result\\NGG_target_candidate\\all\\common\\NGG_common_chr_1.csv\n",
      "Saved to D:\\temp\\CRISPR\\database\\Saccharomyces_cerevisiae_R64\\result\\NGG_target_candidate\\all\\common\\NGG_common_chr_1.pickle\n",
      "Saved to D:\\temp\\CRISPR\\database\\Saccharomyces_cerevisiae_R64\\result\\NGG_target_candidate\\all\\union\\NGG_union_chr_1.csv\n",
      "Saved to D:\\temp\\CRISPR\\database\\Saccharomyces_cerevisiae_R64\\result\\NGG_target_candidate\\all\\union\\NGG_union_chr_1.pickle\n"
     ]
    }
   ],
   "source": [
    "f_extract_NGG_exonal(dir_database)"
   ]
  },
  {
   "cell_type": "markdown",
   "id": "38a28b0e-b933-4eca-a4b0-784faf317c6f",
   "metadata": {},
   "source": [
    "##  Sieve the target candidates, part \n",
    " - - The very minimal requiremen''''''"
   ]
  },
  {
   "cell_type": "code",
   "execution_count": 8,
   "id": "a3901148-f2d4-4f7c-9932-c11979cb5e5c",
   "metadata": {
    "scrolled": true
   },
   "outputs": [
    {
     "name": "stdout",
     "output_type": "stream",
     "text": [
      "2023-11-27 16:05:14.737803 Concatenate csv files for exonal common parts\n",
      "Load NGG_common_chr_1.csv\n",
      "\n",
      "2023-11-27 16:05:14.769087 Concatenate csv files for exonal union parts\n",
      "Load NGG_union_chr_1.csv\n",
      "\n",
      "2023-11-27 16:05:14.805143 Merge\n",
      "2023-11-27 16:05:14.839961 Convert to actual gRNA sequence by changing the initial to G\n",
      "Omit duplicates\n",
      "2023-11-27 16:05:14.848437 Drop entries containing N\n",
      "8296 entries are found\n",
      "Result contained targets for 81 genes\n",
      "Number of genes with [1-2, 3-5, 6-] targets: [0, 0, 81]\n"
     ]
    }
   ],
   "source": [
    "f_sieve_target_1(dir_database)"
   ]
  },
  {
   "cell_type": "markdown",
   "id": "30492845-4742-4877-8c7b-da56e1fd296e",
   "metadata": {},
   "source": [
    "## Calculate sgRNA secondary structure"
   ]
  },
  {
   "cell_type": "code",
   "execution_count": 10,
   "id": "48759c69-2b8b-4d87-ba38-6848ed0a1432",
   "metadata": {
    "scrolled": true
   },
   "outputs": [
    {
     "name": "stdout",
     "output_type": "stream",
     "text": [
      "2023-11-27 16:05:36.466382 Calculate sgRNA secondary structure\n",
      "Add stem-loop sequences\n",
      "Estimating 1 0:00:00.124856\n",
      "Estimating 2 0:00:00.989338\n",
      "Estimating 3 0:00:09.390412\n",
      "Estimated completion time: 2023-11-27 16:06:06\n",
      "2023-11-27 16:05:47.019911 Start processing 4 jobs in total\n",
      "Use 4 cores in parallel\n"
     ]
    },
    {
     "name": "stderr",
     "output_type": "stream",
     "text": [
      "C:\\Users\\ShuheiSUGAI\\.conda\\envs\\crispr\\Lib\\site-packages\\numpy\\core\\fromnumeric.py:59: FutureWarning: 'DataFrame.swapaxes' is deprecated and will be removed in a future version. Please use 'DataFrame.transpose' instead.\n",
      "  return bound(*args, **kwds)\n"
     ]
    },
    {
     "name": "stdout",
     "output_type": "stream",
     "text": [
      "2023-11-27 16:06:22.910644 Done parallel processing.\n",
      "2023-11-27 16:06:22.944658 Flag if GC > 60%\n",
      "2023-11-27 16:06:22.990804 Flag if containing TTTT\n",
      "2023-11-27 16:06:23.001167 Flag if dimerizing with vector sequence\n",
      "Estimating 1 0:00:00.001010\n",
      "Estimating 2 0:00:00.036196\n",
      "Estimating 3 0:00:00.487955\n",
      "Estimating 4 0:00:04.201249\n",
      "Estimated completion time: 2023-11-27 16:06:31\n",
      "Flag if score > 60\n"
     ]
    }
   ],
   "source": [
    "n_core = 4\n",
    "f_add_RNA_structure(dir_database, n_core)\n",
    "f_sieve_target_2(dir_database)"
   ]
  },
  {
   "cell_type": "markdown",
   "id": "267998ba-5cbf-408d-ad4c-25b5be15f5a6",
   "metadata": {},
   "source": [
    "## Cut in smaller chunks and export for off-target & qPCR search"
   ]
  },
  {
   "cell_type": "code",
   "execution_count": 12,
   "id": "e1a80645-e399-4fc7-b0b9-7b27a6e5bb32",
   "metadata": {
    "scrolled": true
   },
   "outputs": [
    {
     "name": "stdout",
     "output_type": "stream",
     "text": [
      "2023-11-27 16:06:44.438461 Prepare the list of target candidates for off-target search\n",
      "\n",
      "Show stats for the `whole` dataset with all candidates:\n",
      "8296 entries are found\n",
      "Result contained targets for 81 genes\n",
      "Number of genes with [1-2, 3-5, 6-] targets: [0, 0, 81]\n",
      "\n",
      "Show stats for the `strict` dataset with candidates passing filters:\n",
      "3234 entries are found\n",
      "Result contained targets for 81 genes\n",
      "Number of genes with [1-2, 3-5, 6-] targets: [2, 0, 79]\n",
      "\n",
      "For the genes with only < 6 + 1 candidates, try salvaging candidates from the `whole` list:\n",
      "Salvage applied to 2 genes in combination\n",
      "\n",
      "Show stats for the salvaged dataset:\n",
      "3254 entries are found\n",
      "Result contained targets for 81 genes\n",
      "Number of genes with [1-2, 3-5, 6-] targets: [0, 0, 81]\n",
      "\n",
      "Save as .pickle\n",
      "2023-11-27 16:06:44.481701 Saved to D:\\temp\\CRISPR\\database\\Saccharomyces_cerevisiae_R64\\result\\NGG_target_candidate\\pd_selected_before_offtarget.pickle\n",
      "2023-11-27 16:06:44.483514 Cut into chunks & export as pseudo-binary string\n",
      "Output to: D:\\temp\\CRISPR\\database\\Saccharomyces_cerevisiae_R64\\result\\NGG_target_candidate\\for_offtarget_search\n",
      "Done.\n",
      "2023-11-27 16:06:44.497087 Cut into chunks & export\n",
      "Output to: D:\\temp\\CRISPR\\database\\Saccharomyces_cerevisiae_R64\\result\\NGG_target_candidate\\for_qPCR_search\n",
      "Done.\n"
     ]
    }
   ],
   "source": [
    "f_prepare_massive_search(dir_database)"
   ]
  },
  {
   "cell_type": "markdown",
   "id": "59b28a50-caea-4f6c-805d-5a5464747080",
   "metadata": {},
   "source": [
    "# Extract genomic NAG/NGG"
   ]
  },
  {
   "cell_type": "code",
   "execution_count": 9,
   "id": "6f3431cd-76e0-44cc-87fe-04a27e78fd09",
   "metadata": {
    "scrolled": true
   },
   "outputs": [
    {
     "name": "stdout",
     "output_type": "stream",
     "text": [
      "2023-11-27 16:05:29.122699 Process chr No. 1 (accession: NC_001133.9 )\n",
      "23060 (forward), 22326 (rev-com) NAG/NGG were found\n",
      "2023-11-27 16:05:29.350967 Cut into chunks & export as pseudo-binary string\n",
      "Output to: D:\\temp\\CRISPR\\database\\Saccharomyces_cerevisiae_R64\\result\\NGG_genomic\\pickle\n",
      "Done.\n",
      "2023-11-27 16:05:29.423500 Cut into chunks & export as pseudo-binary string\n",
      "Output to: D:\\temp\\CRISPR\\database\\Saccharomyces_cerevisiae_R64\\result\\NGG_genomic\\pickle\n",
      "Done.\n",
      "45386 NAG/NGG were found in the whole genome\n"
     ]
    }
   ],
   "source": [
    "f_extract_NGG_genomic(dir_database)"
   ]
  },
  {
   "cell_type": "markdown",
   "id": "0d687da2-7d3a-4830-a63b-29afff154c86",
   "metadata": {},
   "source": [
    "# Off-target score"
   ]
  },
  {
   "cell_type": "markdown",
   "id": "75c3febb-2a40-4681-ade7-9875aaa6ec1d",
   "metadata": {},
   "source": [
    "## Parallel calculation"
   ]
  },
  {
   "cell_type": "code",
   "execution_count": 13,
   "id": "25a81f6a-f6c7-4b79-a484-af806d0745cd",
   "metadata": {},
   "outputs": [
    {
     "name": "stdout",
     "output_type": "stream",
     "text": [
      "All cores: 8\n",
      "Idle cores: 3\n",
      "2023-11-27 16:06:52.800565 Start processing 2 jobs in total\n",
      "Use 3 cores in parallel\n",
      "2023-11-27 16:07:01.503511 Done parallel processing.\n"
     ]
    }
   ],
   "source": [
    "list_args, n_core_available = f_offtarget_prepare_args(dir_database)\n",
    "result = cmulti.main_multiprocessing(cmulti.calc_offtarget_score, list_args, core_num=n_core_available)"
   ]
  },
  {
   "cell_type": "markdown",
   "id": "1158631a-7e4f-4d38-9564-aa7ebb0581b5",
   "metadata": {},
   "source": [
    "## Sum up"
   ]
  },
  {
   "cell_type": "code",
   "execution_count": 14,
   "id": "1f5aaf25-287f-495f-a735-702e5f26a11d",
   "metadata": {
    "scrolled": true
   },
   "outputs": [
    {
     "name": "stdout",
     "output_type": "stream",
     "text": [
      "2023-11-27 16:07:50.661159 Sum up the calculated off-target scores\n",
      "Process files in D:\\temp\\CRISPR\\database\\Saccharomyces_cerevisiae_R64\\result\\off_target\n",
      "2 files are found\n",
      "2023-11-27 16:07:50.661159 Processing file 1 : offtarget_score_000000000000000_x_001_f_000000000000000\n",
      "2023-11-27 16:07:50.691587 Processing file 2 : offtarget_score_000000000000000_x_001_r_000000000000000\n",
      "Save as D:\\temp\\CRISPR\\database\\Saccharomyces_cerevisiae_R64\\result\\off_target_score_sum.pickle\n",
      "2023-11-27 16:07:50.723142 Done.\n"
     ]
    }
   ],
   "source": [
    "f_offtarget_result_sum(dir_database)"
   ]
  },
  {
   "cell_type": "markdown",
   "id": "622eb8a4-cb0f-4381-a04e-4542b491dda7",
   "metadata": {},
   "source": [
    "# qPCR primers"
   ]
  },
  {
   "cell_type": "markdown",
   "id": "3eec4e21-273e-47a4-8196-7e7f351182db",
   "metadata": {},
   "source": [
    "## Parallel calculation"
   ]
  },
  {
   "cell_type": "code",
   "execution_count": 16,
   "id": "6e05f8b7-45b5-4650-a82d-0d2d283554a5",
   "metadata": {},
   "outputs": [
    {
     "name": "stdout",
     "output_type": "stream",
     "text": [
      "All cores: 8\n",
      "Idle cores: 2\n",
      "2023-11-27 16:08:05.142451 Start processing 1 jobs in total\n",
      "Use 2 cores in parallel\n",
      "2023-11-28 05:42:07.325476 Done parallel processing.\n"
     ]
    }
   ],
   "source": [
    "list_args, n_core_available = f_qPCR_prepare_args(dir_database)\n",
    "result = cmulti.main_multiprocessing(cmulti.calc_qPCR, list_args, core_num=n_core_available)"
   ]
  },
  {
   "cell_type": "markdown",
   "id": "c990934f-62c0-4dc8-abe8-7e23a5587f26",
   "metadata": {},
   "source": [
    "## Sum up"
   ]
  },
  {
   "cell_type": "code",
   "execution_count": 18,
   "id": "9cc1bd31-d0ae-442b-9ad0-72c94d6a27b8",
   "metadata": {
    "scrolled": true
   },
   "outputs": [
    {
     "name": "stdout",
     "output_type": "stream",
     "text": [
      "2023-11-28 05:52:32.313265 Sum up the calculated off-target scores\n",
      "Process files in D:\\temp\\CRISPR\\database\\Saccharomyces_cerevisiae_R64\\result\\qPCR\n",
      "1 files are found\n",
      "2023-11-28 05:52:32.314263 Processing file 1 : qPCR_primer_000000000000000\n",
      "3254 entries were found in total. Please confirm that this number is the same as the number of gRNA targets.\n",
      "Save as D:\\temp\\CRISPR\\database\\Saccharomyces_cerevisiae_R64\\result\\qPCR_primer_aggregated.pickle\n",
      "2023-11-28 05:52:32.372015 Done.\n"
     ]
    }
   ],
   "source": [
    "f_qPCR_result_aggregate(dir_database)"
   ]
  },
  {
   "cell_type": "markdown",
   "id": "6a2b78c7-5283-4055-ba1a-fe7cf363a841",
   "metadata": {},
   "source": [
    "# Final processing\n",
    "Combine the results of all analyses and export\n",
    "- Transform off-target scores to the final form\n",
    "- Flag where qPCR primers are missing"
   ]
  },
  {
   "cell_type": "code",
   "execution_count": 3,
   "id": "e150ad03-1bcd-43a4-a86c-844455badab5",
   "metadata": {
    "scrolled": true
   },
   "outputs": [
    {
     "name": "stdout",
     "output_type": "stream",
     "text": [
      "2023-11-28 05:55:23.765840 Start final processing\n",
      "Reading data...\n",
      "Everything else than off-target search and qPCR search: D:\\temp\\CRISPR\\database\\Saccharomyces_cerevisiae_R64\\result\\NGG_target_candidate\\pd_selected_before_offtarget.pickle\n",
      "Off-target scores: D:\\temp\\CRISPR\\database\\Saccharomyces_cerevisiae_R64\\result\\off_target_score_sum.pickle\n",
      "qPCR primers: D:\\temp\\CRISPR\\database\\Saccharomyces_cerevisiae_R64\\result\\qPCR_primer_aggregated.pickle\n",
      "2023-11-28 05:55:23.783035 Final calculation of off-target scores...\n",
      "2023-11-28 05:55:23.829446 Final calculation of qPCR primers...\n",
      "2023-11-28 05:55:23.890895 Add primer sequences for AAV construction...\n",
      "3254 entries are found\n",
      "Result contained targets for 81 genes\n",
      "Number of genes with [1-2, 3-5, 6-] targets: [0, 0, 81]\n",
      "2023-11-28 05:55:23.916517 Sort...\n"
     ]
    },
    {
     "name": "stderr",
     "output_type": "stream",
     "text": [
      "<string>:1313: SettingWithCopyWarning: \n",
      "A value is trying to be set on a copy of a slice from a DataFrame.\n",
      "Try using .loc[row_indexer,col_indexer] = value instead\n",
      "\n",
      "See the caveats in the documentation: https://pandas.pydata.org/pandas-docs/stable/user_guide/indexing.html#returning-a-view-versus-a-copy\n",
      "<string>:1314: SettingWithCopyWarning: \n",
      "A value is trying to be set on a copy of a slice from a DataFrame.\n",
      "Try using .loc[row_indexer,col_indexer] = value instead\n",
      "\n",
      "See the caveats in the documentation: https://pandas.pydata.org/pandas-docs/stable/user_guide/indexing.html#returning-a-view-versus-a-copy\n"
     ]
    },
    {
     "name": "stdout",
     "output_type": "stream",
     "text": [
      "2023-11-28 05:55:25.300079 Saved to D:\\temp\\CRISPR\\database\\Saccharomyces_cerevisiae_R64\\result\\final\\final_sort_pos.pickle\n",
      "2023-11-28 05:55:25.391093 Saved to D:\\temp\\CRISPR\\database\\Saccharomyces_cerevisiae_R64\\result\\final\\final_sort_pos.csv\n",
      "2023-11-28 05:55:25.391093 Cut into chunks & export to D:\\temp\\CRISPR\\database\\Saccharomyces_cerevisiae_R64\\result\\final\\final_sort_pos\n",
      "End!\n",
      "2023-11-28 05:55:25.526107 Completed export to 1 files\n",
      "2023-11-28 05:55:26.858716 Saved to D:\\temp\\CRISPR\\database\\Saccharomyces_cerevisiae_R64\\result\\final\\final_sort_name.pickle\n",
      "2023-11-28 05:55:26.944016 Saved to D:\\temp\\CRISPR\\database\\Saccharomyces_cerevisiae_R64\\result\\final\\final_sort_name.csv\n",
      "2023-11-28 05:55:26.944016 Cut into chunks & export to D:\\temp\\CRISPR\\database\\Saccharomyces_cerevisiae_R64\\result\\final\\final_sort_name\n",
      "End!\n",
      "2023-11-28 05:55:27.024876 Completed export to 1 files\n",
      "2023-11-28 05:55:27.024876 All done, congratulations!\n"
     ]
    }
   ],
   "source": [
    "f_final_processing(dir_database)"
   ]
  }
 ],
 "metadata": {
  "kernelspec": {
   "display_name": "Python 3 (ipykernel)",
   "language": "python",
   "name": "python3"
  },
  "language_info": {
   "codemirror_mode": {
    "name": "ipython",
    "version": 3
   },
   "file_extension": ".py",
   "mimetype": "text/x-python",
   "name": "python",
   "nbconvert_exporter": "python",
   "pygments_lexer": "ipython3",
   "version": "3.11.5"
  }
 },
 "nbformat": 4,
 "nbformat_minor": 5
}
