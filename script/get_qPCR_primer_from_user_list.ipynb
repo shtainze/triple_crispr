{
 "cells": [
  {
   "cell_type": "markdown",
   "id": "addb3aef",
   "metadata": {},
   "source": [
    "# Get qPCR primers from a user-defined list of gRNA targets"
   ]
  },
  {
   "cell_type": "markdown",
   "id": "8cca1159-74e1-4770-8977-3c85952de4d1",
   "metadata": {},
   "source": [
    "# Preparation"
   ]
  },
  {
   "cell_type": "code",
   "execution_count": null,
   "id": "48253c2c-0cd6-43b8-b8fd-851a28943dce",
   "metadata": {},
   "outputs": [],
   "source": [
    "from IPython.display import display, HTML\n",
    "display(HTML(\"<style>.container { width:100% !important; }</style>\"))\n",
    "\n",
    "import os\n",
    "os.chdir(\"..\")\n",
    "dir_root = os.getcwd()\n",
    "print(\"Root directory:\", dir_root)\n",
    "\n",
    "# Load functions\n",
    "os.chdir(os.path.join(dir_root, \"script\"))\n",
    "with open(\"function.py\") as f:\n",
    "    code = f.read()\n",
    "    exec(code)\n",
    "\n",
    "# Load customized multicore functions\n",
    "import custom_multicore as cmulti\n",
    "\n",
    "print('Loaded functions:', datetime.now())\n",
    "os.chdir(dir_root)\n",
    "\n",
    "# Set database directory\n",
    "database_name = \"Mus_musculus_GRCm38_p4\"\n",
    "dir_database = os.path.join(\n",
    "    dir_root, \"database\", database_name)\n",
    "print(\"Database directory is set to:\", dir_database)"
   ]
  },
  {
   "cell_type": "markdown",
   "id": "e1f2592b-4844-41ae-9fe2-5be1715376be",
   "metadata": {},
   "source": [
    "# Calculation (specify input and output)"
   ]
  },
  {
   "cell_type": "code",
   "execution_count": null,
   "id": "fa049c81-640c-461b-b552-e161b42a9c87",
   "metadata": {
    "scrolled": true
   },
   "outputs": [],
   "source": [
    "file_in = \"candidates_mouse.csv\"\n",
    "file_out = \"result_mouse_2.csv\"\n",
    "calc_qPCR_for_external(dir_database, dir_root, file_in, file_out)"
   ]
  }
 ],
 "metadata": {
  "kernelspec": {
   "display_name": "Python 3 (ipykernel)",
   "language": "python",
   "name": "python3"
  },
  "language_info": {
   "codemirror_mode": {
    "name": "ipython",
    "version": 3
   },
   "file_extension": ".py",
   "mimetype": "text/x-python",
   "name": "python",
   "nbconvert_exporter": "python",
   "pygments_lexer": "ipython3",
   "version": "3.10.12"
  }
 },
 "nbformat": 4,
 "nbformat_minor": 5
}
