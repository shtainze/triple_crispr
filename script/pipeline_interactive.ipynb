{
 "cells": [
  {
   "cell_type": "markdown",
   "id": "addb3aef",
   "metadata": {},
   "source": [
    "# Initial preparation"
   ]
  },
  {
   "cell_type": "markdown",
   "id": "8cca1159-74e1-4770-8977-3c85952de4d1",
   "metadata": {},
   "source": [
    "## Load scripts"
   ]
  },
  {
   "cell_type": "code",
   "execution_count": null,
   "id": "48253c2c-0cd6-43b8-b8fd-851a28943dce",
   "metadata": {},
   "outputs": [],
   "source": [
    "from IPython.display import display, HTML\n",
    "display(HTML(\"<style>.container { width:100% !important; }</style>\"))\n",
    "\n",
    "import os\n",
    "os.chdir(\"..\")\n",
    "dir_root = os.getcwd()\n",
    "print(\"Root directory:\", dir_root)\n",
    "\n",
    "# Load functions\n",
    "os.chdir(os.path.join(dir_root, \"script\"))\n",
    "with open(\"function.py\") as f:\n",
    "    code = f.read()\n",
    "    exec(code)\n",
    "\n",
    "# Load customized multicore functions\n",
    "import custom_multicore as cmulti\n",
    "\n",
    "print('Loaded functions:', datetime.now())\n",
    "os.chdir(dir_root)"
   ]
  },
  {
   "cell_type": "markdown",
   "id": "3c8b2e2b-36df-43c7-a1f3-fe849bf80424",
   "metadata": {},
   "source": [
    "## [Specify each time!] database name and sources\n",
    "- `database_name`: arbitrary, might be [scientific_name]_[genome version]\n",
    " - `url_genome`, `url_rna`: URL of RefSeq data\n",
    "   - you may look through the folder specified below\n",
    "   - and retrieve the newest version or data for another species\n",
    "   - `url_genome`: usually ends in \"_genomic.fna.gz\" and the file size is largest in the folder\n",
    "   - `url_rna`: usually ends in \"_rna_from_genomic.fna.gz\""
   ]
  },
  {
   "cell_type": "code",
   "execution_count": null,
   "id": "1a837da7-ca3d-4697-bdbc-675bb6a2969e",
   "metadata": {},
   "outputs": [],
   "source": [
    "# Mouse, an old version\n",
    "database_name = \"Mus_musculus_GRCm38_p4\"\n",
    "url_genome = 'https://ftp.ncbi.nlm.nih.gov/genomes/refseq/vertebrate_mammalian/Mus_musculus/all_assembly_versions/GCF_000001635.24_GRCm38.p4/GCF_000001635.24_GRCm38.p4_genomic.fna.gz'\n",
    "url_rna = 'https://ftp.ncbi.nlm.nih.gov/genomes/refseq/vertebrate_mammalian/Mus_musculus/all_assembly_versions/GCF_000001635.24_GRCm38.p4/GCF_000001635.24_GRCm38.p4_rna_from_genomic.fna.gz'\n",
    "\n",
    "# # Budding yeast\n",
    "# database_name = \"Saccharomyces_cerevisiae_R64\"\n",
    "# url_genome = \"https://ftp.ncbi.nlm.nih.gov/genomes/refseq/fungi/Saccharomyces_cerevisiae/all_assembly_versions/GCF_000146045.2_R64/GCF_000146045.2_R64_genomic.fna.gz\"\n",
    "# url_rna = \"https://ftp.ncbi.nlm.nih.gov/genomes/refseq/fungi/Saccharomyces_cerevisiae/all_assembly_versions/GCF_000146045.2_R64/GCF_000146045.2_R64_rna_from_genomic.fna.gz\"\n",
    "\n",
    "dir_database = os.path.join(dir_root, \"database\", database_name)\n",
    "print(\"Database directory:\", dir_database)"
   ]
  },
  {
   "cell_type": "markdown",
   "id": "fe2831f0-b630-4cac-a026-58281037a1a7",
   "metadata": {},
   "source": [
    "## Make directories and download the data"
   ]
  },
  {
   "cell_type": "code",
   "execution_count": null,
   "id": "862486d4-cae3-4e2c-b53d-9f5a59d01468",
   "metadata": {
    "scrolled": true
   },
   "outputs": [],
   "source": [
    "os.chdir(dir_root)\n",
    "f_setup_directory(dir_database)\n",
    "f_initial_directory_setup(dir_database, \n",
    "                        {url_genome: \"genome.gz\", url_rna: \"rna.gz\",}\n",
    "                       )"
   ]
  },
  {
   "cell_type": "markdown",
   "id": "486e9ade-29ce-4d2d-8741-e2be9d816251",
   "metadata": {},
   "source": [
    "## Cut into chromosomal sequences\n",
    "- This makes many smaller files which are easier to handle, compared to the large single genome file"
   ]
  },
  {
   "cell_type": "code",
   "execution_count": null,
   "id": "b55e96bc-4bfe-4dd4-b469-609f8796e003",
   "metadata": {
    "scrolled": true
   },
   "outputs": [],
   "source": [
    "f_parse_sequence(dir_database)"
   ]
  },
  {
   "cell_type": "markdown",
   "id": "1d4ab7d5-55b2-48ce-9153-0654b889e836",
   "metadata": {},
   "source": [
    "## Extract mRNA info"
   ]
  },
  {
   "cell_type": "code",
   "execution_count": null,
   "id": "1b338981-acc1-4413-88ae-bb4b2fcdff19",
   "metadata": {
    "scrolled": true
   },
   "outputs": [],
   "source": [
    "f_parse_annotation(dir_database)"
   ]
  },
  {
   "cell_type": "markdown",
   "id": "105bfd61-1828-4ca6-888a-eea3115fd99b",
   "metadata": {},
   "source": [
    "# Target candidate extraction & rudimentary selection"
   ]
  },
  {
   "cell_type": "markdown",
   "id": "fc90677e-a702-45b7-976e-c368aaad7e59",
   "metadata": {},
   "source": [
    "## Extract target candidate NGGs"
   ]
  },
  {
   "cell_type": "code",
   "execution_count": null,
   "id": "e6e72c88-a7ed-4786-93e7-b0c9ed39af43",
   "metadata": {
    "scrolled": true
   },
   "outputs": [],
   "source": [
    "f_extract_NGG_exonal(dir_database)"
   ]
  },
  {
   "cell_type": "markdown",
   "id": "38a28b0e-b933-4eca-a4b0-784faf317c6f",
   "metadata": {},
   "source": [
    "##  Sieve the target candidates, part \n",
    " - - The very minimal requiremen''''''"
   ]
  },
  {
   "cell_type": "code",
   "execution_count": null,
   "id": "a3901148-f2d4-4f7c-9932-c11979cb5e5c",
   "metadata": {
    "scrolled": true
   },
   "outputs": [],
   "source": [
    "f_sieve_target_1(dir_database)"
   ]
  },
  {
   "cell_type": "markdown",
   "id": "30492845-4742-4877-8c7b-da56e1fd296e",
   "metadata": {},
   "source": [
    "## Calculate sgRNA secondary structure"
   ]
  },
  {
   "cell_type": "code",
   "execution_count": null,
   "id": "48759c69-2b8b-4d87-ba38-6848ed0a1432",
   "metadata": {
    "scrolled": true
   },
   "outputs": [],
   "source": [
    "n_core_available = get_n_core()\n",
    "f_add_RNA_structure(dir_database, n_core_available)\n",
    "f_sieve_target_2(dir_database)"
   ]
  },
  {
   "cell_type": "markdown",
   "id": "267998ba-5cbf-408d-ad4c-25b5be15f5a6",
   "metadata": {},
   "source": [
    "## Cut in smaller chunks and export for off-target & qPCR search"
   ]
  },
  {
   "cell_type": "code",
   "execution_count": null,
   "id": "e1a80645-e399-4fc7-b0b9-7b27a6e5bb32",
   "metadata": {
    "scrolled": true
   },
   "outputs": [],
   "source": [
    "f_prepare_massive_search(dir_database)"
   ]
  },
  {
   "cell_type": "markdown",
   "id": "59b28a50-caea-4f6c-805d-5a5464747080",
   "metadata": {},
   "source": [
    "# Extract genomic NAG/NGG"
   ]
  },
  {
   "cell_type": "code",
   "execution_count": null,
   "id": "6f3431cd-76e0-44cc-87fe-04a27e78fd09",
   "metadata": {
    "scrolled": true
   },
   "outputs": [],
   "source": [
    "f_extract_NGG_genomic(dir_database)"
   ]
  },
  {
   "cell_type": "markdown",
   "id": "0d687da2-7d3a-4830-a63b-29afff154c86",
   "metadata": {},
   "source": [
    "# Off-target score"
   ]
  },
  {
   "cell_type": "markdown",
   "id": "75c3febb-2a40-4681-ade7-9875aaa6ec1d",
   "metadata": {},
   "source": [
    "## Parallel calculation"
   ]
  },
  {
   "cell_type": "code",
   "execution_count": null,
   "id": "25a81f6a-f6c7-4b79-a484-af806d0745cd",
   "metadata": {},
   "outputs": [],
   "source": [
    "list_args, n_core_available = f_offtarget_prepare_args(dir_database)\n",
    "result = cmulti.main_multiprocessing(cmulti.calc_offtarget_score, list_args, core_num=n_core_available)"
   ]
  },
  {
   "cell_type": "markdown",
   "id": "1158631a-7e4f-4d38-9564-aa7ebb0581b5",
   "metadata": {},
   "source": [
    "## Sum up"
   ]
  },
  {
   "cell_type": "code",
   "execution_count": null,
   "id": "1f5aaf25-287f-495f-a735-702e5f26a11d",
   "metadata": {
    "scrolled": true
   },
   "outputs": [],
   "source": [
    "f_offtarget_result_sum(dir_database)"
   ]
  },
  {
   "cell_type": "markdown",
   "id": "622eb8a4-cb0f-4381-a04e-4542b491dda7",
   "metadata": {},
   "source": [
    "# qPCR primers"
   ]
  },
  {
   "cell_type": "markdown",
   "id": "3eec4e21-273e-47a4-8196-7e7f351182db",
   "metadata": {},
   "source": [
    "## Parallel calculation"
   ]
  },
  {
   "cell_type": "code",
   "execution_count": null,
   "id": "6e05f8b7-45b5-4650-a82d-0d2d283554a5",
   "metadata": {},
   "outputs": [],
   "source": [
    "list_args, n_core_available = f_qPCR_prepare_args(dir_database)\n",
    "result = cmulti.main_multiprocessing(cmulti.calc_qPCR, list_args, core_num=n_core_available)"
   ]
  },
  {
   "cell_type": "markdown",
   "id": "c990934f-62c0-4dc8-abe8-7e23a5587f26",
   "metadata": {},
   "source": [
    "## Sum up"
   ]
  },
  {
   "cell_type": "code",
   "execution_count": null,
   "id": "9cc1bd31-d0ae-442b-9ad0-72c94d6a27b8",
   "metadata": {
    "scrolled": true
   },
   "outputs": [],
   "source": [
    "f_qPCR_result_aggregate(dir_database)"
   ]
  },
  {
   "cell_type": "markdown",
   "id": "6a2b78c7-5283-4055-ba1a-fe7cf363a841",
   "metadata": {},
   "source": [
    "# Final processing\n",
    "Combine the results of all analyses and export\n",
    "- Transform off-target scores to the final form\n",
    "- Flag where qPCR primers are missing"
   ]
  },
  {
   "cell_type": "code",
   "execution_count": null,
   "id": "e150ad03-1bcd-43a4-a86c-844455badab5",
   "metadata": {
    "scrolled": true
   },
   "outputs": [],
   "source": [
    "f_final_processing(dir_database)"
   ]
  }
 ],
 "metadata": {
  "kernelspec": {
   "display_name": "Python 3 (ipykernel)",
   "language": "python",
   "name": "python3"
  },
  "language_info": {
   "codemirror_mode": {
    "name": "ipython",
    "version": 3
   },
   "file_extension": ".py",
   "mimetype": "text/x-python",
   "name": "python",
   "nbconvert_exporter": "python",
   "pygments_lexer": "ipython3",
   "version": "3.11.5"
  }
 },
 "nbformat": 4,
 "nbformat_minor": 5
}
